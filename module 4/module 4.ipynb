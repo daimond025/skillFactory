{
 "cells": [
  {
   "cell_type": "code",
   "execution_count": 155,
   "metadata": {},
   "outputs": [],
   "source": [
    "import numpy as np\n",
    "import pandas as pd\n",
    "\n",
    "import matplotlib.pyplot as plt\n",
    "import seaborn \n",
    "import statistics"
   ]
  },
  {
   "cell_type": "markdown",
   "metadata": {},
   "source": [
    "#### Обработчик данных"
   ]
  },
  {
   "cell_type": "code",
   "execution_count": 159,
   "metadata": {},
   "outputs": [],
   "source": [
    "class PrepareDate():\n",
    "    # в констуркоре определим методы обработки данных\n",
    "    def __init__(self, df_output):\n",
    "        self.df_output = df_output\n",
    "\n",
    "    # расчет затрат\n",
    "    # (количество топлива (http://newsruss.ru/doc/index.php/Расход_топлива_у_самолётов) * минуты  )\n",
    "    # * стоимость топлива (https://favt.gov.ru/dejatelnost-ajeroporty-i-ajerodromy-ceny-na-aviagsm/?id=7379) - 51 859\n",
    "    #  для самолтатов  Boeing 737-300 - 40 кг/1 мин, Sukhoi Superjet-100 - 28 кг / 1 мин\n",
    "    def calculatePetrol(self):\n",
    "        self.df_output['petrol'] = 0\n",
    "        self.df_output.loc[(self.df_output['plane_model'] == 'Boeing 737-300'), 'petrol'] = 40\n",
    "        self.df_output.loc[(self.df_output['plane_model'] == 'Sukhoi Superjet-100'), 'petrol'] = 28\n",
    "\n",
    "        self.df_output['cost_petrol'] = (self.df_output['petrol'] * self.df_output['duration_minutes']) / 1000 * 51859\n",
    "        self.calcululateTotalCosts()\n",
    "\n",
    "    # так как общих затрат я не нашел - буду исходить из процентого соотношения затрат (https://www.aex.ru/docs/1/2011/4/13/1323/)\n",
    "    #  топливо - 20% (оно нам известно  - примем за константу)\n",
    "    #  аэропортовые сборы, наземное обслуживание, аэронавигация  примем на 20% (равно типливу)\n",
    "    #  лизинговые и таможенные платежи, расходы на обслуживание кредита примем на 20% (равно типливу)\n",
    "    #  техническое обслуживание парка авиасудов примем на 10% (равно половину типливу)\n",
    "    #  расходы на оплату труда пилотного состава на 10% (равно половину типливу)\n",
    "    #  todo общиие затраты =  4 * (затраты топлива)\n",
    "    def calcululateTotalCosts(self):\n",
    "        self.df_output['Costs'] = 4 * self.df_output['cost_petrol']\n",
    "\n",
    "    #  извлечение даты\n",
    "    def foramedDate(self):\n",
    "        self.df_output['date_departure'] = pd.to_datetime( self.df_output['date_departure'], format='%d-%m-%Y %H:%M:%S')\n",
    "        self.df_output['day_of_week'] =  self.df_output['date_departure'].dt.dayofweek\n",
    "        self.df_output['month'] =  self.df_output['date_departure'].dt.month\n",
    "\n",
    "    #  извлечение разных метрик\n",
    "    def calculateProfit(self):\n",
    "        # общая прибыль = продажа билетов - затраты\n",
    "        self.df_output['profit'] =  self.df_output['pass_summ'] - self.df_output['Costs']\n",
    "        #  заполняемость мест в т.ч. бизнес и экном классов\n",
    "        self.df_output['occupancy'] = self.df_output['pass_count'] / self.df_output['plane_count']\n",
    "        self.df_output['occupancy_econom'] = self.df_output['pass_econom_count'] / self.df_output['plane_econom_count']\n",
    "        self.df_output['occupancy_bisness'] = self.df_output['pass_bisiness_count'] / self.df_output['plane_bisiness_count']\n",
    "\n",
    "         # доля продажи  бизнес и экном билетов от общей продажи билетов\n",
    "        self.df_output['part_bisness'] = self.df_output['pass_bisiness_summ'] / self.df_output['pass_summ']\n",
    "        self.df_output['part_econom'] = self.df_output['pass_econom_summ'] / self.df_output['pass_summ']\n",
    "\n",
    "        # как один пассажир влияет на доходность / или на продажу билетов\n",
    "        self.df_output['deposit_profit'] = (self.df_output['profit'] )/ self.df_output['pass_count']\n",
    "        self.df_output['deposit_econom'] = (self.df_output['pass_econom_summ'] )/ self.df_output['pass_econom_count']\n",
    "        self.df_output['deposit_bisness'] = (self.df_output['pass_bisiness_summ'] )/ self.df_output['pass_bisiness_count']\n",
    "\n",
    "\n",
    "    def processData(self):\n",
    "        self.calculatePetrol()\n",
    "        self.foramedDate()\n",
    "        self.calculateProfit()\n",
    "\n",
    "        return self.df_output"
   ]
  },
  {
   "cell_type": "markdown",
   "metadata": {},
   "source": [
    "# Загрузка данных:"
   ]
  },
  {
   "cell_type": "code",
   "execution_count": 160,
   "metadata": {},
   "outputs": [],
   "source": [
    "data = pd.read_csv('data.csv')\n",
    "\n",
    "df_object = PrepareDate(data)\n",
    "df = df_object.processData()"
   ]
  },
  {
   "cell_type": "code",
   "execution_count": 161,
   "metadata": {},
   "outputs": [
    {
     "data": {
      "text/html": [
       "<div>\n",
       "<style scoped>\n",
       "    .dataframe tbody tr th:only-of-type {\n",
       "        vertical-align: middle;\n",
       "    }\n",
       "\n",
       "    .dataframe tbody tr th {\n",
       "        vertical-align: top;\n",
       "    }\n",
       "\n",
       "    .dataframe thead th {\n",
       "        text-align: right;\n",
       "    }\n",
       "</style>\n",
       "<table border=\"1\" class=\"dataframe\">\n",
       "  <thead>\n",
       "    <tr style=\"text-align: right;\">\n",
       "      <th></th>\n",
       "      <th>flight_id</th>\n",
       "      <th>date_departure</th>\n",
       "      <th>duration_minutes</th>\n",
       "      <th>departure_city</th>\n",
       "      <th>departure_lon</th>\n",
       "      <th>departure_lat</th>\n",
       "      <th>city</th>\n",
       "      <th>arrival_lon</th>\n",
       "      <th>arrival_lat</th>\n",
       "      <th>plane_model</th>\n",
       "      <th>...</th>\n",
       "      <th>month</th>\n",
       "      <th>profit</th>\n",
       "      <th>occupancy</th>\n",
       "      <th>occupancy_econom</th>\n",
       "      <th>occupancy_bisness</th>\n",
       "      <th>part_bisness</th>\n",
       "      <th>part_econom</th>\n",
       "      <th>deposit_profit</th>\n",
       "      <th>deposit_econom</th>\n",
       "      <th>deposit_bisness</th>\n",
       "    </tr>\n",
       "  </thead>\n",
       "  <tbody>\n",
       "    <tr>\n",
       "      <th>72</th>\n",
       "      <td>136452</td>\n",
       "      <td>2017-02-17 10:08:00</td>\n",
       "      <td>100</td>\n",
       "      <td>Anapa</td>\n",
       "      <td>37.347301</td>\n",
       "      <td>45.002102</td>\n",
       "      <td>Moscow</td>\n",
       "      <td>37.414600</td>\n",
       "      <td>55.972599</td>\n",
       "      <td>Boeing 737-300</td>\n",
       "      <td>...</td>\n",
       "      <td>2</td>\n",
       "      <td>773256.000</td>\n",
       "      <td>0.838462</td>\n",
       "      <td>0.830508</td>\n",
       "      <td>0.916667</td>\n",
       "      <td>0.251154</td>\n",
       "      <td>0.748846</td>\n",
       "      <td>7094.091743</td>\n",
       "      <td>12248.979592</td>\n",
       "      <td>36600.0</td>\n",
       "    </tr>\n",
       "    <tr>\n",
       "      <th>7</th>\n",
       "      <td>136486</td>\n",
       "      <td>2017-02-02 10:07:00</td>\n",
       "      <td>101</td>\n",
       "      <td>Anapa</td>\n",
       "      <td>37.347301</td>\n",
       "      <td>45.002102</td>\n",
       "      <td>Moscow</td>\n",
       "      <td>37.414600</td>\n",
       "      <td>55.972599</td>\n",
       "      <td>Boeing 737-300</td>\n",
       "      <td>...</td>\n",
       "      <td>2</td>\n",
       "      <td>667358.560</td>\n",
       "      <td>0.823077</td>\n",
       "      <td>0.838983</td>\n",
       "      <td>0.666667</td>\n",
       "      <td>0.194500</td>\n",
       "      <td>0.805500</td>\n",
       "      <td>6236.995888</td>\n",
       "      <td>12248.484848</td>\n",
       "      <td>36600.0</td>\n",
       "    </tr>\n",
       "    <tr>\n",
       "      <th>26</th>\n",
       "      <td>136632</td>\n",
       "      <td>2017-01-07 12:42:00</td>\n",
       "      <td>51</td>\n",
       "      <td>Anapa</td>\n",
       "      <td>37.347301</td>\n",
       "      <td>45.002102</td>\n",
       "      <td>Belgorod</td>\n",
       "      <td>36.590099</td>\n",
       "      <td>50.643799</td>\n",
       "      <td>Sukhoi Superjet-100</td>\n",
       "      <td>...</td>\n",
       "      <td>1</td>\n",
       "      <td>418081.392</td>\n",
       "      <td>0.938144</td>\n",
       "      <td>0.941176</td>\n",
       "      <td>0.916667</td>\n",
       "      <td>0.291054</td>\n",
       "      <td>0.708946</td>\n",
       "      <td>4594.301011</td>\n",
       "      <td>6330.000000</td>\n",
       "      <td>18900.0</td>\n",
       "    </tr>\n",
       "    <tr>\n",
       "      <th>8</th>\n",
       "      <td>136546</td>\n",
       "      <td>2017-01-03 06:13:00</td>\n",
       "      <td>302</td>\n",
       "      <td>Anapa</td>\n",
       "      <td>37.347301</td>\n",
       "      <td>45.002102</td>\n",
       "      <td>Novokuznetsk</td>\n",
       "      <td>86.877197</td>\n",
       "      <td>53.811401</td>\n",
       "      <td>Boeing 737-300</td>\n",
       "      <td>...</td>\n",
       "      <td>1</td>\n",
       "      <td>NaN</td>\n",
       "      <td>NaN</td>\n",
       "      <td>NaN</td>\n",
       "      <td>NaN</td>\n",
       "      <td>NaN</td>\n",
       "      <td>NaN</td>\n",
       "      <td>NaN</td>\n",
       "      <td>NaN</td>\n",
       "      <td>NaN</td>\n",
       "    </tr>\n",
       "    <tr>\n",
       "      <th>78</th>\n",
       "      <td>136387</td>\n",
       "      <td>2017-01-19 10:08:00</td>\n",
       "      <td>99</td>\n",
       "      <td>Anapa</td>\n",
       "      <td>37.347301</td>\n",
       "      <td>45.002102</td>\n",
       "      <td>Moscow</td>\n",
       "      <td>37.414600</td>\n",
       "      <td>55.972599</td>\n",
       "      <td>Boeing 737-300</td>\n",
       "      <td>...</td>\n",
       "      <td>1</td>\n",
       "      <td>953553.440</td>\n",
       "      <td>0.930769</td>\n",
       "      <td>0.923729</td>\n",
       "      <td>1.000000</td>\n",
       "      <td>0.247437</td>\n",
       "      <td>0.752563</td>\n",
       "      <td>7880.606942</td>\n",
       "      <td>12255.045872</td>\n",
       "      <td>36600.0</td>\n",
       "    </tr>\n",
       "  </tbody>\n",
       "</table>\n",
       "<p>5 rows × 34 columns</p>\n",
       "</div>"
      ],
      "text/plain": [
       "    flight_id      date_departure  duration_minutes departure_city  \\\n",
       "72     136452 2017-02-17 10:08:00               100          Anapa   \n",
       "7      136486 2017-02-02 10:07:00               101          Anapa   \n",
       "26     136632 2017-01-07 12:42:00                51          Anapa   \n",
       "8      136546 2017-01-03 06:13:00               302          Anapa   \n",
       "78     136387 2017-01-19 10:08:00                99          Anapa   \n",
       "\n",
       "    departure_lon  departure_lat          city  arrival_lon  arrival_lat  \\\n",
       "72      37.347301      45.002102        Moscow    37.414600    55.972599   \n",
       "7       37.347301      45.002102        Moscow    37.414600    55.972599   \n",
       "26      37.347301      45.002102      Belgorod    36.590099    50.643799   \n",
       "8       37.347301      45.002102  Novokuznetsk    86.877197    53.811401   \n",
       "78      37.347301      45.002102        Moscow    37.414600    55.972599   \n",
       "\n",
       "            plane_model  ...  month      profit  occupancy  occupancy_econom  \\\n",
       "72       Boeing 737-300  ...      2  773256.000   0.838462          0.830508   \n",
       "7        Boeing 737-300  ...      2  667358.560   0.823077          0.838983   \n",
       "26  Sukhoi Superjet-100  ...      1  418081.392   0.938144          0.941176   \n",
       "8        Boeing 737-300  ...      1         NaN        NaN               NaN   \n",
       "78       Boeing 737-300  ...      1  953553.440   0.930769          0.923729   \n",
       "\n",
       "    occupancy_bisness  part_bisness  part_econom  deposit_profit  \\\n",
       "72           0.916667      0.251154     0.748846     7094.091743   \n",
       "7            0.666667      0.194500     0.805500     6236.995888   \n",
       "26           0.916667      0.291054     0.708946     4594.301011   \n",
       "8                 NaN           NaN          NaN             NaN   \n",
       "78           1.000000      0.247437     0.752563     7880.606942   \n",
       "\n",
       "    deposit_econom  deposit_bisness  \n",
       "72    12248.979592          36600.0  \n",
       "7     12248.484848          36600.0  \n",
       "26     6330.000000          18900.0  \n",
       "8              NaN              NaN  \n",
       "78    12255.045872          36600.0  \n",
       "\n",
       "[5 rows x 34 columns]"
      ]
     },
     "execution_count": 161,
     "metadata": {},
     "output_type": "execute_result"
    }
   ],
   "source": [
    "df.sample(5)"
   ]
  },
  {
   "cell_type": "markdown",
   "metadata": {},
   "source": [
    "***Количество рейсов:***\n"
   ]
  },
  {
   "cell_type": "code",
   "execution_count": 162,
   "metadata": {},
   "outputs": [
    {
     "data": {
      "text/plain": [
       "<AxesSubplot:ylabel='city'>"
      ]
     },
     "execution_count": 162,
     "metadata": {},
     "output_type": "execute_result"
    },
    {
     "data": {
      "image/png": "[encoded data removed]",
      "text/plain": [
       "<Figure size 432x288 with 1 Axes>"
      ]
     },
     "metadata": {},
     "output_type": "display_data"
    }
   ],
   "source": [
    "seaborn.barplot(x=df['city'].value_counts().index, y=df['city'].value_counts())"
   ]
  },
  {
   "cell_type": "code",
   "execution_count": 163,
   "metadata": {},
   "outputs": [
    {
     "data": {
      "text/plain": [
       "<AxesSubplot:ylabel='day_of_week'>"
      ]
     },
     "execution_count": 163,
     "metadata": {},
     "output_type": "execute_result"
    },
    {
     "data": {
      "image/png": "[encoded data removed]",
      "text/plain": [
       "<Figure size 432x288 with 1 Axes>"
      ]
     },
     "metadata": {},
     "output_type": "display_data"
    }
   ],
   "source": [
    "seaborn.barplot(x=df['day_of_week'].value_counts().index, y=df['day_of_week'].value_counts())"
   ]
  },
  {
   "cell_type": "code",
   "execution_count": 164,
   "metadata": {},
   "outputs": [
    {
     "data": {
      "text/plain": [
       "<AxesSubplot:ylabel='month'>"
      ]
     },
     "execution_count": 164,
     "metadata": {},
     "output_type": "execute_result"
    },
    {
     "data": {
      "image/png": "[encoded data removed]",
      "text/plain": [
       "<Figure size 432x288 with 1 Axes>"
      ]
     },
     "metadata": {},
     "output_type": "display_data"
    }
   ],
   "source": [
    "seaborn.barplot(x=df['month'].value_counts().index, y=df['month'].value_counts())"
   ]
  },
  {
   "cell_type": "markdown",
   "metadata": {},
   "source": [
    "***Вывод:*** <br> Видно, что большинство рейсов в Москву и Белгород <br>\n",
    "Количество рейсов по дням недели также примерно одинаково, кроме Вторника - рейсов больше! <br>\n",
    "Также видно в декабре рейсов не было!"
   ]
  },
  {
   "cell_type": "markdown",
   "metadata": {},
   "source": [
    "### Анализ направлений\n",
    "Среднне время полета"
   ]
  },
  {
   "cell_type": "code",
   "execution_count": 165,
   "metadata": {},
   "outputs": [
    {
     "data": {
      "text/plain": [
       "<AxesSubplot:xlabel='city'>"
      ]
     },
     "execution_count": 165,
     "metadata": {},
     "output_type": "execute_result"
    },
    {
     "data": {
      "image/png": "[encoded data removed]",
      "text/plain": [
       "<Figure size 432x288 with 1 Axes>"
      ]
     },
     "metadata": {},
     "output_type": "display_data"
    }
   ],
   "source": [
    "dff = df.groupby(['city'])['duration_minutes'].mean()\n",
    "seaborn.barplot(x=dff.index, y=dff.values)"
   ]
  },
  {
   "cell_type": "code",
   "execution_count": 166,
   "metadata": {},
   "outputs": [
    {
     "data": {
      "text/plain": [
       "city\n",
       "Belgorod        [Sukhoi Superjet-100]\n",
       "Moscow               [Boeing 737-300]\n",
       "Novokuznetsk         [Boeing 737-300]\n",
       "Name: plane_model, dtype: object"
      ]
     },
     "execution_count": 166,
     "metadata": {},
     "output_type": "execute_result"
    }
   ],
   "source": [
    "dff = df.groupby('city')['plane_model'].unique()\n",
    "dff"
   ]
  },
  {
   "cell_type": "markdown",
   "metadata": {},
   "source": [
    "### Таким образом для каждого города назначения летает только один тип самолета!\n",
    "\n",
    "Среднняя стоимость билетов пассажиров  по городам: "
   ]
  },
  {
   "cell_type": "code",
   "execution_count": 167,
   "metadata": {},
   "outputs": [
    {
     "data": {
      "text/plain": [
       "<AxesSubplot:xlabel='city'>"
      ]
     },
     "execution_count": 167,
     "metadata": {},
     "output_type": "execute_result"
    },
    {
     "data": {
      "image/png": "[encoded data removed]",
      "text/plain": [
       "<Figure size 432x288 with 1 Axes>"
      ]
     },
     "metadata": {},
     "output_type": "display_data"
    }
   ],
   "source": [
    "dff = df.groupby(['city'])['pass_summ'].mean()\n",
    "seaborn.barplot(x=dff.index, y=dff.values)"
   ]
  },
  {
   "cell_type": "code",
   "execution_count": 168,
   "metadata": {},
   "outputs": [
    {
     "data": {
      "text/html": [
       "<div>\n",
       "<style scoped>\n",
       "    .dataframe tbody tr th:only-of-type {\n",
       "        vertical-align: middle;\n",
       "    }\n",
       "\n",
       "    .dataframe tbody tr th {\n",
       "        vertical-align: top;\n",
       "    }\n",
       "\n",
       "    .dataframe thead th {\n",
       "        text-align: right;\n",
       "    }\n",
       "</style>\n",
       "<table border=\"1\" class=\"dataframe\">\n",
       "  <thead>\n",
       "    <tr style=\"text-align: right;\">\n",
       "      <th></th>\n",
       "      <th>pass_econom_summ</th>\n",
       "      <th>pass_bisiness_summ</th>\n",
       "      <th>pass_summ</th>\n",
       "    </tr>\n",
       "  </thead>\n",
       "  <tbody>\n",
       "    <tr>\n",
       "      <th>8</th>\n",
       "      <td>NaN</td>\n",
       "      <td>NaN</td>\n",
       "      <td>NaN</td>\n",
       "    </tr>\n",
       "    <tr>\n",
       "      <th>27</th>\n",
       "      <td>NaN</td>\n",
       "      <td>NaN</td>\n",
       "      <td>NaN</td>\n",
       "    </tr>\n",
       "    <tr>\n",
       "      <th>38</th>\n",
       "      <td>NaN</td>\n",
       "      <td>NaN</td>\n",
       "      <td>NaN</td>\n",
       "    </tr>\n",
       "    <tr>\n",
       "      <th>57</th>\n",
       "      <td>NaN</td>\n",
       "      <td>NaN</td>\n",
       "      <td>NaN</td>\n",
       "    </tr>\n",
       "    <tr>\n",
       "      <th>68</th>\n",
       "      <td>NaN</td>\n",
       "      <td>NaN</td>\n",
       "      <td>NaN</td>\n",
       "    </tr>\n",
       "    <tr>\n",
       "      <th>87</th>\n",
       "      <td>NaN</td>\n",
       "      <td>NaN</td>\n",
       "      <td>NaN</td>\n",
       "    </tr>\n",
       "    <tr>\n",
       "      <th>98</th>\n",
       "      <td>NaN</td>\n",
       "      <td>NaN</td>\n",
       "      <td>NaN</td>\n",
       "    </tr>\n",
       "    <tr>\n",
       "      <th>117</th>\n",
       "      <td>NaN</td>\n",
       "      <td>NaN</td>\n",
       "      <td>NaN</td>\n",
       "    </tr>\n",
       "    <tr>\n",
       "      <th>124</th>\n",
       "      <td>NaN</td>\n",
       "      <td>NaN</td>\n",
       "      <td>NaN</td>\n",
       "    </tr>\n",
       "  </tbody>\n",
       "</table>\n",
       "</div>"
      ],
      "text/plain": [
       "     pass_econom_summ  pass_bisiness_summ  pass_summ\n",
       "8                 NaN                 NaN        NaN\n",
       "27                NaN                 NaN        NaN\n",
       "38                NaN                 NaN        NaN\n",
       "57                NaN                 NaN        NaN\n",
       "68                NaN                 NaN        NaN\n",
       "87                NaN                 NaN        NaN\n",
       "98                NaN                 NaN        NaN\n",
       "117               NaN                 NaN        NaN\n",
       "124               NaN                 NaN        NaN"
      ]
     },
     "execution_count": 168,
     "metadata": {},
     "output_type": "execute_result"
    }
   ],
   "source": [
    "df[df['city'] == 'Novokuznetsk'][['pass_econom_summ', 'pass_bisiness_summ', 'pass_summ']]"
   ]
  },
  {
   "cell_type": "markdown",
   "metadata": {},
   "source": [
    "В датасете нет данных по рейсам в Novokuznetsk - ислючим данные из датасета. Так как нет данных по продажам билетов в это направление, есть затраты (оринтировочные), но нет данных по доходам , опиратся не на что - исключим данные из датасета.\n"
   ]
  },
  {
   "cell_type": "code",
   "execution_count": 169,
   "metadata": {},
   "outputs": [],
   "source": [
    "df = df[df['city'] != 'Novokuznetsk'].copy()"
   ]
  },
  {
   "cell_type": "markdown",
   "metadata": {},
   "source": [
    "### Анализ доходности рейсов (средняя заполняемость (бизнесс - эконом класс))\n",
    "1.1 Средняя прибыль по рейсам"
   ]
  },
  {
   "cell_type": "code",
   "execution_count": 170,
   "metadata": {},
   "outputs": [
    {
     "data": {
      "text/plain": [
       "<AxesSubplot:xlabel='city'>"
      ]
     },
     "execution_count": 170,
     "metadata": {},
     "output_type": "execute_result"
    },
    {
     "data": {
      "image/png": "[encoded data removed]",
      "text/plain": [
       "<Figure size 432x288 with 1 Axes>"
      ]
     },
     "metadata": {},
     "output_type": "display_data"
    }
   ],
   "source": [
    "dff = df.groupby(['city'])['profit'].mean()\n",
    "seaborn.barplot(x=dff.index, y=dff.values)"
   ]
  },
  {
   "cell_type": "markdown",
   "metadata": {},
   "source": [
    "## 1.2 Заполняемость рейса по пассажирам "
   ]
  },
  {
   "cell_type": "code",
   "execution_count": 171,
   "metadata": {},
   "outputs": [
    {
     "data": {
      "text/plain": [
       "<AxesSubplot:xlabel='city'>"
      ]
     },
     "execution_count": 171,
     "metadata": {},
     "output_type": "execute_result"
    },
    {
     "data": {
      "image/png": "[encoded data removed]",
      "text/plain": [
       "<Figure size 432x288 with 1 Axes>"
      ]
     },
     "metadata": {},
     "output_type": "display_data"
    }
   ],
   "source": [
    "dff = df.groupby(['city'])['occupancy'].mean()\n",
    "seaborn.barplot(x=dff.index, y=dff.values)"
   ]
  },
  {
   "cell_type": "code",
   "execution_count": 172,
   "metadata": {},
   "outputs": [
    {
     "data": {
      "text/plain": [
       "<AxesSubplot:xlabel='city'>"
      ]
     },
     "execution_count": 172,
     "metadata": {},
     "output_type": "execute_result"
    },
    {
     "data": {
      "image/png": "[encoded data removed]",
      "text/plain": [
       "<Figure size 432x288 with 1 Axes>"
      ]
     },
     "metadata": {},
     "output_type": "display_data"
    }
   ],
   "source": [
    "dff = df.groupby(['city'])['occupancy_econom'].mean()\n",
    "seaborn.barplot(x=dff.index, y=dff.values)"
   ]
  },
  {
   "cell_type": "code",
   "execution_count": 173,
   "metadata": {},
   "outputs": [
    {
     "data": {
      "text/plain": [
       "<AxesSubplot:xlabel='city'>"
      ]
     },
     "execution_count": 173,
     "metadata": {},
     "output_type": "execute_result"
    },
    {
     "data": {
      "image/png": "[encoded data removed]",
      "text/plain": [
       "<Figure size 432x288 with 1 Axes>"
      ]
     },
     "metadata": {},
     "output_type": "display_data"
    }
   ],
   "source": [
    "dff = df.groupby(['city'])['occupancy_bisness'].mean()\n",
    "seaborn.barplot(x=dff.index, y=dff.values)"
   ]
  },
  {
   "cell_type": "markdown",
   "metadata": {},
   "source": [
    "### 1.3 Доля типов пассажирских классов в общую сумму прибыли"
   ]
  },
  {
   "cell_type": "code",
   "execution_count": 180,
   "metadata": {},
   "outputs": [
    {
     "data": {
      "text/plain": [
       "<AxesSubplot:xlabel='city'>"
      ]
     },
     "execution_count": 180,
     "metadata": {},
     "output_type": "execute_result"
    },
    {
     "data": {
      "image/png": "[encoded data removed]",
      "text/plain": [
       "<Figure size 432x288 with 1 Axes>"
      ]
     },
     "metadata": {},
     "output_type": "display_data"
    }
   ],
   "source": [
    "dff = df.groupby(['city'])['deposit_profit'].mean()\n",
    "seaborn.barplot(x=dff.index, y=dff.values)"
   ]
  },
  {
   "cell_type": "code",
   "execution_count": 175,
   "metadata": {},
   "outputs": [
    {
     "ename": "KeyError",
     "evalue": "'Column not found: deposit'",
     "output_type": "error",
     "traceback": [
      "\u001B[1;31m---------------------------------------------------------------------------\u001B[0m",
      "\u001B[1;31mKeyError\u001B[0m                                  Traceback (most recent call last)",
      "\u001B[1;32m<ipython-input-175-d68828fbcd50>\u001B[0m in \u001B[0;36m<module>\u001B[1;34m\u001B[0m\n\u001B[1;32m----> 1\u001B[1;33m \u001B[0mdff\u001B[0m \u001B[1;33m=\u001B[0m \u001B[0mdf\u001B[0m\u001B[1;33m.\u001B[0m\u001B[0mgroupby\u001B[0m\u001B[1;33m(\u001B[0m\u001B[1;33m[\u001B[0m\u001B[1;34m'city'\u001B[0m\u001B[1;33m]\u001B[0m\u001B[1;33m)\u001B[0m\u001B[1;33m[\u001B[0m\u001B[1;34m'deposit'\u001B[0m\u001B[1;33m]\u001B[0m\u001B[1;33m.\u001B[0m\u001B[0mmean\u001B[0m\u001B[1;33m(\u001B[0m\u001B[1;33m)\u001B[0m\u001B[1;33m\u001B[0m\u001B[1;33m\u001B[0m\u001B[0m\n\u001B[0m\u001B[0;32m      2\u001B[0m \u001B[0mseaborn\u001B[0m\u001B[1;33m.\u001B[0m\u001B[0mbarplot\u001B[0m\u001B[1;33m(\u001B[0m\u001B[0mx\u001B[0m\u001B[1;33m=\u001B[0m\u001B[0mdff\u001B[0m\u001B[1;33m.\u001B[0m\u001B[0mindex\u001B[0m\u001B[1;33m,\u001B[0m \u001B[0my\u001B[0m\u001B[1;33m=\u001B[0m\u001B[0mdff\u001B[0m\u001B[1;33m.\u001B[0m\u001B[0mvalues\u001B[0m\u001B[1;33m)\u001B[0m\u001B[1;33m\u001B[0m\u001B[1;33m\u001B[0m\u001B[0m\n",
      "\u001B[1;32mc:\\study\\venv\\lib\\site-packages\\pandas\\core\\groupby\\generic.py\u001B[0m in \u001B[0;36m__getitem__\u001B[1;34m(self, key)\u001B[0m\n\u001B[0;32m   1533\u001B[0m                 \u001B[0mstacklevel\u001B[0m\u001B[1;33m=\u001B[0m\u001B[1;36m2\u001B[0m\u001B[1;33m,\u001B[0m\u001B[1;33m\u001B[0m\u001B[1;33m\u001B[0m\u001B[0m\n\u001B[0;32m   1534\u001B[0m             )\n\u001B[1;32m-> 1535\u001B[1;33m         \u001B[1;32mreturn\u001B[0m \u001B[0msuper\u001B[0m\u001B[1;33m(\u001B[0m\u001B[1;33m)\u001B[0m\u001B[1;33m.\u001B[0m\u001B[0m__getitem__\u001B[0m\u001B[1;33m(\u001B[0m\u001B[0mkey\u001B[0m\u001B[1;33m)\u001B[0m\u001B[1;33m\u001B[0m\u001B[1;33m\u001B[0m\u001B[0m\n\u001B[0m\u001B[0;32m   1536\u001B[0m \u001B[1;33m\u001B[0m\u001B[0m\n\u001B[0;32m   1537\u001B[0m     \u001B[1;32mdef\u001B[0m \u001B[0m_gotitem\u001B[0m\u001B[1;33m(\u001B[0m\u001B[0mself\u001B[0m\u001B[1;33m,\u001B[0m \u001B[0mkey\u001B[0m\u001B[1;33m,\u001B[0m \u001B[0mndim\u001B[0m\u001B[1;33m:\u001B[0m \u001B[0mint\u001B[0m\u001B[1;33m,\u001B[0m \u001B[0msubset\u001B[0m\u001B[1;33m=\u001B[0m\u001B[1;32mNone\u001B[0m\u001B[1;33m)\u001B[0m\u001B[1;33m:\u001B[0m\u001B[1;33m\u001B[0m\u001B[1;33m\u001B[0m\u001B[0m\n",
      "\u001B[1;32mc:\\study\\venv\\lib\\site-packages\\pandas\\core\\base.py\u001B[0m in \u001B[0;36m__getitem__\u001B[1;34m(self, key)\u001B[0m\n\u001B[0;32m    278\u001B[0m             \u001B[1;31m# error: \"SelectionMixin\" has no attribute \"obj\"  [attr-defined]\u001B[0m\u001B[1;33m\u001B[0m\u001B[1;33m\u001B[0m\u001B[1;33m\u001B[0m\u001B[0m\n\u001B[0;32m    279\u001B[0m             \u001B[1;32mif\u001B[0m \u001B[0mkey\u001B[0m \u001B[1;32mnot\u001B[0m \u001B[1;32min\u001B[0m \u001B[0mself\u001B[0m\u001B[1;33m.\u001B[0m\u001B[0mobj\u001B[0m\u001B[1;33m:\u001B[0m  \u001B[1;31m# type: ignore[attr-defined]\u001B[0m\u001B[1;33m\u001B[0m\u001B[1;33m\u001B[0m\u001B[0m\n\u001B[1;32m--> 280\u001B[1;33m                 \u001B[1;32mraise\u001B[0m \u001B[0mKeyError\u001B[0m\u001B[1;33m(\u001B[0m\u001B[1;34mf\"Column not found: {key}\"\u001B[0m\u001B[1;33m)\u001B[0m\u001B[1;33m\u001B[0m\u001B[1;33m\u001B[0m\u001B[0m\n\u001B[0m\u001B[0;32m    281\u001B[0m             \u001B[1;32mreturn\u001B[0m \u001B[0mself\u001B[0m\u001B[1;33m.\u001B[0m\u001B[0m_gotitem\u001B[0m\u001B[1;33m(\u001B[0m\u001B[0mkey\u001B[0m\u001B[1;33m,\u001B[0m \u001B[0mndim\u001B[0m\u001B[1;33m=\u001B[0m\u001B[1;36m1\u001B[0m\u001B[1;33m)\u001B[0m\u001B[1;33m\u001B[0m\u001B[1;33m\u001B[0m\u001B[0m\n\u001B[0;32m    282\u001B[0m \u001B[1;33m\u001B[0m\u001B[0m\n",
      "\u001B[1;31mKeyError\u001B[0m: 'Column not found: deposit'"
     ]
    }
   ],
   "source": [
    "dff = df.groupby(['city'])['deposit'].mean()\n",
    "seaborn.barplot(x=dff.index, y=dff.values)"
   ]
  },
  {
   "cell_type": "code",
   "execution_count": 182,
   "metadata": {},
   "outputs": [
    {
     "data": {
      "text/plain": [
       "<AxesSubplot:xlabel='city'>"
      ]
     },
     "execution_count": 182,
     "metadata": {},
     "output_type": "execute_result"
    },
    {
     "data": {
      "image/png": "[encoded data removed]",
      "text/plain": [
       "<Figure size 432x288 with 1 Axes>"
      ]
     },
     "metadata": {},
     "output_type": "display_data"
    }
   ],
   "source": [
    "dff = df.groupby(['city'])['deposit_econom'].mean()\n",
    "seaborn.barplot(x=dff.index, y=dff.values)"
   ]
  },
  {
   "cell_type": "code",
   "execution_count": 183,
   "metadata": {},
   "outputs": [
    {
     "data": {
      "text/plain": [
       "<AxesSubplot:xlabel='city'>"
      ]
     },
     "execution_count": 183,
     "metadata": {},
     "output_type": "execute_result"
    },
    {
     "data": {
      "image/png": "[encoded data removed]",
      "text/plain": [
       "<Figure size 432x288 with 1 Axes>"
      ]
     },
     "metadata": {},
     "output_type": "display_data"
    }
   ],
   "source": [
    "dff = df.groupby(['city'])['deposit_bisness'].mean()\n",
    "seaborn.barplot(x=dff.index, y=dff.values)"
   ]
  },
  {
   "cell_type": "code",
   "execution_count": 184,
   "metadata": {},
   "outputs": [
    {
     "data": {
      "text/plain": [
       "<AxesSubplot:xlabel='city'>"
      ]
     },
     "execution_count": 184,
     "metadata": {},
     "output_type": "execute_result"
    },
    {
     "data": {
      "image/png": "[encoded data removed]",
      "text/plain": [
       "<Figure size 432x288 with 1 Axes>"
      ]
     },
     "metadata": {},
     "output_type": "display_data"
    }
   ],
   "source": [
    "dff = df.groupby(['city'])['part_bisness'].mean()\n",
    "seaborn.barplot(x=dff.index, y=dff.values)"
   ]
  },
  {
   "cell_type": "code",
   "execution_count": 185,
   "metadata": {},
   "outputs": [
    {
     "data": {
      "text/plain": [
       "<AxesSubplot:xlabel='city'>"
      ]
     },
     "execution_count": 185,
     "metadata": {},
     "output_type": "execute_result"
    },
    {
     "data": {
      "image/png": "[encoded data removed]",
      "text/plain": [
       "<Figure size 432x288 with 1 Axes>"
      ]
     },
     "metadata": {},
     "output_type": "display_data"
    }
   ],
   "source": [
    "dff = df.groupby(['city'])['part_econom'].mean()\n",
    "seaborn.barplot(x=dff.index, y=dff.values)"
   ]
  },
  {
   "cell_type": "code",
   "execution_count": 186,
   "metadata": {},
   "outputs": [
    {
     "data": {
      "text/plain": [
       "<AxesSubplot:xlabel='city', ylabel='profit'>"
      ]
     },
     "execution_count": 186,
     "metadata": {},
     "output_type": "execute_result"
    },
    {
     "data": {
      "image/png": "[encoded data removed]",
      "text/plain": [
       "<Figure size 432x288 with 1 Axes>"
      ]
     },
     "metadata": {},
     "output_type": "display_data"
    }
   ],
   "source": [
    "seaborn.boxplot(x=df['city'], y=df['profit'],\n",
    "            data=df)"
   ]
  },
  {
   "cell_type": "markdown",
   "metadata": {},
   "source": [
    "### График зависимости прибыли от заполняемости рейса"
   ]
  },
  {
   "cell_type": "code",
   "execution_count": 197,
   "metadata": {},
   "outputs": [
    {
     "data": {
      "text/plain": [
       "<AxesSubplot:xlabel='occupancy', ylabel='profit'>"
      ]
     },
     "execution_count": 197,
     "metadata": {},
     "output_type": "execute_result"
    },
    {
     "data": {
      "image/png": "[encoded data removed]",
      "text/plain": [
       "<Figure size 432x288 with 1 Axes>"
      ]
     },
     "metadata": {},
     "output_type": "display_data"
    }
   ],
   "source": [
    "Moscow_city = df[df['city'] == 'Moscow' ].copy()\n",
    "seaborn.lineplot(x='occupancy', y='profit', data=Moscow_city)"
   ]
  },
  {
   "cell_type": "code",
   "execution_count": 198,
   "metadata": {},
   "outputs": [
    {
     "data": {
      "text/plain": [
       "<AxesSubplot:xlabel='occupancy', ylabel='profit'>"
      ]
     },
     "execution_count": 198,
     "metadata": {},
     "output_type": "execute_result"
    },
    {
     "data": {
      "image/png": "[encoded data removed]",
      "text/plain": [
       "<Figure size 432x288 with 1 Axes>"
      ]
     },
     "metadata": {},
     "output_type": "display_data"
    }
   ],
   "source": [
    "Belgorod_city = df[df['city'] == 'Belgorod' ].copy()\n",
    "seaborn.lineplot(x='occupancy', y='profit', data=Belgorod_city)"
   ]
  },
  {
   "cell_type": "code",
   "execution_count": 200,
   "metadata": {},
   "outputs": [
    {
     "data": {
      "text/html": [
       "<div>\n",
       "<style scoped>\n",
       "    .dataframe tbody tr th:only-of-type {\n",
       "        vertical-align: middle;\n",
       "    }\n",
       "\n",
       "    .dataframe tbody tr th {\n",
       "        vertical-align: top;\n",
       "    }\n",
       "\n",
       "    .dataframe thead th {\n",
       "        text-align: right;\n",
       "    }\n",
       "</style>\n",
       "<table border=\"1\" class=\"dataframe\">\n",
       "  <thead>\n",
       "    <tr style=\"text-align: right;\">\n",
       "      <th></th>\n",
       "      <th>flight_id</th>\n",
       "      <th>date_departure</th>\n",
       "      <th>city</th>\n",
       "      <th>occupancy</th>\n",
       "      <th>profit</th>\n",
       "    </tr>\n",
       "  </thead>\n",
       "  <tbody>\n",
       "    <tr>\n",
       "      <th>96</th>\n",
       "      <td>136807</td>\n",
       "      <td>2017-02-23 09:28:00</td>\n",
       "      <td>Belgorod</td>\n",
       "      <td>0.701031</td>\n",
       "      <td>240589.600</td>\n",
       "    </tr>\n",
       "    <tr>\n",
       "      <th>118</th>\n",
       "      <td>136844</td>\n",
       "      <td>2017-02-28 09:26:00</td>\n",
       "      <td>Belgorod</td>\n",
       "      <td>0.814433</td>\n",
       "      <td>284689.600</td>\n",
       "    </tr>\n",
       "    <tr>\n",
       "      <th>122</th>\n",
       "      <td>136642</td>\n",
       "      <td>2017-01-30 09:28:00</td>\n",
       "      <td>Belgorod</td>\n",
       "      <td>0.659794</td>\n",
       "      <td>246397.808</td>\n",
       "    </tr>\n",
       "  </tbody>\n",
       "</table>\n",
       "</div>"
      ],
      "text/plain": [
       "     flight_id      date_departure      city  occupancy      profit\n",
       "96      136807 2017-02-23 09:28:00  Belgorod   0.701031  240589.600\n",
       "118     136844 2017-02-28 09:26:00  Belgorod   0.814433  284689.600\n",
       "122     136642 2017-01-30 09:28:00  Belgorod   0.659794  246397.808"
      ]
     },
     "execution_count": 200,
     "metadata": {},
     "output_type": "execute_result"
    }
   ],
   "source": [
    "low_profit = df[df['profit'] < 300000].copy()\n",
    "low_profit[['flight_id', 'date_departure', 'city', 'occupancy', 'profit']]"
   ]
  },
  {
   "cell_type": "code",
   "execution_count": 201,
   "metadata": {},
   "outputs": [
    {
     "data": {
      "text/plain": [
       "<AxesSubplot:xlabel='occupancy', ylabel='profit'>"
      ]
     },
     "execution_count": 201,
     "metadata": {},
     "output_type": "execute_result"
    },
    {
     "data": {
      "image/png": "[encoded data removed]",
      "text/plain": [
       "<Figure size 432x288 with 1 Axes>"
      ]
     },
     "metadata": {},
     "output_type": "display_data"
    }
   ],
   "source": [
    "\n",
    "seaborn.lineplot(x='occupancy', y='profit', data=low_profit)"
   ]
  },
  {
   "cell_type": "code",
   "execution_count": null,
   "metadata": {},
   "outputs": [],
   "source": []
  }
 ],
 "metadata": {
  "kernelspec": {
   "display_name": "Python 3",
   "language": "python",
   "name": "python3"
  },
  "language_info": {
   "codemirror_mode": {
    "name": "ipython",
    "version": 3
   },
   "file_extension": ".py",
   "mimetype": "text/x-python",
   "name": "python",
   "nbconvert_exporter": "python",
   "pygments_lexer": "ipython3",
   "version": "3.8.4"
  }
 },
 "nbformat": 4,
 "nbformat_minor": 1
}
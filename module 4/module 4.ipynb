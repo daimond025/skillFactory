{
 "cells": [
  {
   "cell_type": "code",
   "execution_count": 56,
   "metadata": {},
   "outputs": [],
   "source": [
    "import numpy as np\n",
    "import pandas as pd\n",
    "\n",
    "import matplotlib.pyplot as plt\n",
    "import seaborn \n",
    "import statistics"
   ]
  },
  {
   "cell_type": "markdown",
   "metadata": {},
   "source": [
    "#### Обработчик данных"
   ]
  },
  {
   "cell_type": "code",
   "execution_count": 105,
   "metadata": {},
   "outputs": [],
   "source": [
    "class PrepareDate():\n",
    "    # в констуркоре определим методы обработки данных\n",
    "    def __init__(self, df_output):\n",
    "        self.df_output = df_output\n",
    "\n",
    "    # расчет затрат\n",
    "    # (количество топлива (http://newsruss.ru/doc/index.php/Расход_топлива_у_самолётов) * минуты  )\n",
    "    # * стоимость топлива (https://favt.gov.ru/dejatelnost-ajeroporty-i-ajerodromy-ceny-na-aviagsm/?id=7379) - 51 859\n",
    "    #  для самолтатов  Boeing 737-300 - 40 кг/1 мин, Sukhoi Superjet-100 - 28 кг / 1 мин\n",
    "    def calculatePetrol(self):\n",
    "        self.df_output['petrol'] = 0\n",
    "        self.df_output.loc[(self.df_output['plane_model'] == 'Boeing 737-300'), 'petrol'] = 40\n",
    "        self.df_output.loc[(self.df_output['plane_model'] == 'Sukhoi Superjet-100'), 'petrol'] = 28\n",
    "\n",
    "        self.df_output['cost_petrol'] = (self.df_output['petrol'] * self.df_output['duration_minutes']) / 1000 * 51859\n",
    "        self.calcululateTotalCosts()\n",
    "\n",
    "    # так как общих затрат я не нашел - буду исходить из процентого соотношения затрат (https://www.aex.ru/docs/1/2011/4/13/1323/)\n",
    "    #  топливо - 20% (оно нам известно  - примем за константу)\n",
    "    #  аэропортовые сборы, наземное обслуживание, аэронавигация  примем на 20% (равно типливу)\n",
    "    #  лизинговые и таможенные платежи, расходы на обслуживание кредита примем на 20% (равно типливу)\n",
    "    #  техническое обслуживание парка авиасудов примем на 10% (равно половину типливу)\n",
    "    #  расходы на оплату труда пилотного состава на 10% (равно половину типливу)\n",
    "    #  todo общиие затраты =  4 * (затраты топлива)\n",
    "    def calcululateTotalCosts(self):\n",
    "        self.df_output['Costs'] = 4 * self.df_output['cost_petrol']\n",
    "\n",
    "    #  извлечение даты\n",
    "    def foramedDate(self):\n",
    "        self.df_output['date_departure'] = pd.to_datetime( self.df_output['date_departure'], format='%d-%m-%Y %H:%M:%S')\n",
    "        self.df_output['day_of_week'] =  self.df_output['date_departure'].dt.dayofweek\n",
    "        self.df_output['month'] =  self.df_output['date_departure'].dt.month\n",
    "\n",
    "    #  извлечение разных метрик\n",
    "    def calculateProfit(self):\n",
    "        # общая прибыль = продажа билетов - затраы\n",
    "        self.df_output['profit'] =  self.df_output['pass_summ'] - self.df_output['Costs']\n",
    "        #  заполняемость мест в т.ч. бизнес и экном классов\n",
    "        self.df_output['occupancy'] = self.df_output['pass_count'] / self.df_output['plane_count']\n",
    "        self.df_output['occupancy_econom'] = self.df_output['pass_econom_count'] / self.df_output['plane_econom_count']\n",
    "        self.df_output['occupancy_bisness'] = self.df_output['pass_bisiness_count'] / self.df_output['plane_bisiness_count']\n",
    "\n",
    "         # доля продажи  бизнес и экном билетов от общей продажи билетов\n",
    "        self.df_output['part_bisness'] = self.df_output['pass_bisiness_summ'] / self.df_output['pass_summ']\n",
    "        self.df_output['part_econom'] = self.df_output['pass_econom_summ'] / self.df_output['pass_summ']\n",
    "\n",
    "        # как один пассажир влияет на доходность / или на продажу билетов\n",
    "        self.df_output['deposit_profit'] = (self.df_output['profit'] )/ self.df_output['pass_count']\n",
    "        self.df_output['deposit'] = (self.df_output['pass_summ'] )/ self.df_output['pass_count']\n",
    "        self.df_output['deposit_econom'] = (self.df_output['pass_econom_summ'] )/ self.df_output['pass_econom_count']\n",
    "        self.df_output['deposit_bisness'] = (self.df_output['pass_bisiness_summ'] )/ self.df_output['pass_bisiness_count']\n",
    "\n",
    "\n",
    "    def processData(self):\n",
    "        self.calculatePetrol()\n",
    "        self.foramedDate()\n",
    "        self.calculateProfit()\n",
    "\n",
    "        return self.df_output\n"
   ]
  },
  {
   "cell_type": "markdown",
   "metadata": {},
   "source": [
    "# Загрузка данных:"
   ]
  },
  {
   "cell_type": "code",
   "execution_count": 106,
   "metadata": {},
   "outputs": [],
   "source": [
    "data = pd.read_csv('data.csv')\n",
    "\n",
    "df_object = PrepareDate(data)\n",
    "df = df_object.processData()"
   ]
  },
  {
   "cell_type": "code",
   "execution_count": 81,
   "metadata": {},
   "outputs": [
    {
     "data": {
      "text/html": [
       "<div>\n",
       "<style scoped>\n",
       "    .dataframe tbody tr th:only-of-type {\n",
       "        vertical-align: middle;\n",
       "    }\n",
       "\n",
       "    .dataframe tbody tr th {\n",
       "        vertical-align: top;\n",
       "    }\n",
       "\n",
       "    .dataframe thead th {\n",
       "        text-align: right;\n",
       "    }\n",
       "</style>\n",
       "<table border=\"1\" class=\"dataframe\">\n",
       "  <thead>\n",
       "    <tr style=\"text-align: right;\">\n",
       "      <th></th>\n",
       "      <th>flight_id</th>\n",
       "      <th>date_departure</th>\n",
       "      <th>duration_minutes</th>\n",
       "      <th>departure_city</th>\n",
       "      <th>departure_lon</th>\n",
       "      <th>departure_lat</th>\n",
       "      <th>city</th>\n",
       "      <th>arrival_lon</th>\n",
       "      <th>arrival_lat</th>\n",
       "      <th>plane_model</th>\n",
       "      <th>...</th>\n",
       "      <th>profit</th>\n",
       "      <th>occupancy</th>\n",
       "      <th>occupancy_econom</th>\n",
       "      <th>occupancy_bisness</th>\n",
       "      <th>part_bisness</th>\n",
       "      <th>part_econom</th>\n",
       "      <th>deposit_profit</th>\n",
       "      <th>deposit</th>\n",
       "      <th>deposit_econom</th>\n",
       "      <th>deposit_bisness</th>\n",
       "    </tr>\n",
       "  </thead>\n",
       "  <tbody>\n",
       "    <tr>\n",
       "      <th>3</th>\n",
       "      <td>136135</td>\n",
       "      <td>2017-02-01 10:08:00</td>\n",
       "      <td>100</td>\n",
       "      <td>Anapa</td>\n",
       "      <td>37.347301</td>\n",
       "      <td>45.002102</td>\n",
       "      <td>Moscow</td>\n",
       "      <td>37.414600</td>\n",
       "      <td>55.972599</td>\n",
       "      <td>Boeing 737-300</td>\n",
       "      <td>...</td>\n",
       "      <td>848856.00</td>\n",
       "      <td>0.884615</td>\n",
       "      <td>0.881356</td>\n",
       "      <td>0.916667</td>\n",
       "      <td>0.239843</td>\n",
       "      <td>0.760157</td>\n",
       "      <td>7381.356522</td>\n",
       "      <td>14596.521739</td>\n",
       "      <td>12269.230769</td>\n",
       "      <td>36600.0</td>\n",
       "    </tr>\n",
       "    <tr>\n",
       "      <th>22</th>\n",
       "      <td>136209</td>\n",
       "      <td>2017-01-06 10:09:00</td>\n",
       "      <td>100</td>\n",
       "      <td>Anapa</td>\n",
       "      <td>37.347301</td>\n",
       "      <td>45.002102</td>\n",
       "      <td>Moscow</td>\n",
       "      <td>37.414600</td>\n",
       "      <td>55.972599</td>\n",
       "      <td>Boeing 737-300</td>\n",
       "      <td>...</td>\n",
       "      <td>785456.00</td>\n",
       "      <td>0.861538</td>\n",
       "      <td>0.864407</td>\n",
       "      <td>0.833333</td>\n",
       "      <td>0.226597</td>\n",
       "      <td>0.773403</td>\n",
       "      <td>7013.000000</td>\n",
       "      <td>14421.428571</td>\n",
       "      <td>12247.058824</td>\n",
       "      <td>36600.0</td>\n",
       "    </tr>\n",
       "    <tr>\n",
       "      <th>80</th>\n",
       "      <td>136320</td>\n",
       "      <td>2017-02-19 10:05:00</td>\n",
       "      <td>100</td>\n",
       "      <td>Anapa</td>\n",
       "      <td>37.347301</td>\n",
       "      <td>45.002102</td>\n",
       "      <td>Moscow</td>\n",
       "      <td>37.414600</td>\n",
       "      <td>55.972599</td>\n",
       "      <td>Boeing 737-300</td>\n",
       "      <td>...</td>\n",
       "      <td>714656.00</td>\n",
       "      <td>0.815385</td>\n",
       "      <td>0.813559</td>\n",
       "      <td>0.833333</td>\n",
       "      <td>0.236985</td>\n",
       "      <td>0.763015</td>\n",
       "      <td>6742.037736</td>\n",
       "      <td>14569.811321</td>\n",
       "      <td>12275.000000</td>\n",
       "      <td>36600.0</td>\n",
       "    </tr>\n",
       "    <tr>\n",
       "      <th>4</th>\n",
       "      <td>136936</td>\n",
       "      <td>2017-01-02 09:28:00</td>\n",
       "      <td>50</td>\n",
       "      <td>Anapa</td>\n",
       "      <td>37.347301</td>\n",
       "      <td>45.002102</td>\n",
       "      <td>Belgorod</td>\n",
       "      <td>36.590099</td>\n",
       "      <td>50.643799</td>\n",
       "      <td>Sukhoi Superjet-100</td>\n",
       "      <td>...</td>\n",
       "      <td>341989.60</td>\n",
       "      <td>0.845361</td>\n",
       "      <td>0.858824</td>\n",
       "      <td>0.750000</td>\n",
       "      <td>0.268975</td>\n",
       "      <td>0.731025</td>\n",
       "      <td>4170.604878</td>\n",
       "      <td>7712.195122</td>\n",
       "      <td>6332.876712</td>\n",
       "      <td>18900.0</td>\n",
       "    </tr>\n",
       "    <tr>\n",
       "      <th>78</th>\n",
       "      <td>136387</td>\n",
       "      <td>2017-01-19 10:08:00</td>\n",
       "      <td>99</td>\n",
       "      <td>Anapa</td>\n",
       "      <td>37.347301</td>\n",
       "      <td>45.002102</td>\n",
       "      <td>Moscow</td>\n",
       "      <td>37.414600</td>\n",
       "      <td>55.972599</td>\n",
       "      <td>Boeing 737-300</td>\n",
       "      <td>...</td>\n",
       "      <td>953553.44</td>\n",
       "      <td>0.930769</td>\n",
       "      <td>0.923729</td>\n",
       "      <td>1.000000</td>\n",
       "      <td>0.247437</td>\n",
       "      <td>0.752563</td>\n",
       "      <td>7880.606942</td>\n",
       "      <td>14669.421488</td>\n",
       "      <td>12255.045872</td>\n",
       "      <td>36600.0</td>\n",
       "    </tr>\n",
       "  </tbody>\n",
       "</table>\n",
       "<p>5 rows × 35 columns</p>\n",
       "</div>"
      ],
      "text/plain": [
       "    flight_id      date_departure  duration_minutes departure_city  \\\n",
       "3      136135 2017-02-01 10:08:00               100          Anapa   \n",
       "22     136209 2017-01-06 10:09:00               100          Anapa   \n",
       "80     136320 2017-02-19 10:05:00               100          Anapa   \n",
       "4      136936 2017-01-02 09:28:00                50          Anapa   \n",
       "78     136387 2017-01-19 10:08:00                99          Anapa   \n",
       "\n",
       "    departure_lon  departure_lat      city  arrival_lon  arrival_lat  \\\n",
       "3       37.347301      45.002102    Moscow    37.414600    55.972599   \n",
       "22      37.347301      45.002102    Moscow    37.414600    55.972599   \n",
       "80      37.347301      45.002102    Moscow    37.414600    55.972599   \n",
       "4       37.347301      45.002102  Belgorod    36.590099    50.643799   \n",
       "78      37.347301      45.002102    Moscow    37.414600    55.972599   \n",
       "\n",
       "            plane_model  ...     profit  occupancy  occupancy_econom  \\\n",
       "3        Boeing 737-300  ...  848856.00   0.884615          0.881356   \n",
       "22       Boeing 737-300  ...  785456.00   0.861538          0.864407   \n",
       "80       Boeing 737-300  ...  714656.00   0.815385          0.813559   \n",
       "4   Sukhoi Superjet-100  ...  341989.60   0.845361          0.858824   \n",
       "78       Boeing 737-300  ...  953553.44   0.930769          0.923729   \n",
       "\n",
       "    occupancy_bisness  part_bisness  part_econom  deposit_profit  \\\n",
       "3            0.916667      0.239843     0.760157     7381.356522   \n",
       "22           0.833333      0.226597     0.773403     7013.000000   \n",
       "80           0.833333      0.236985     0.763015     6742.037736   \n",
       "4            0.750000      0.268975     0.731025     4170.604878   \n",
       "78           1.000000      0.247437     0.752563     7880.606942   \n",
       "\n",
       "         deposit  deposit_econom  deposit_bisness  \n",
       "3   14596.521739    12269.230769          36600.0  \n",
       "22  14421.428571    12247.058824          36600.0  \n",
       "80  14569.811321    12275.000000          36600.0  \n",
       "4    7712.195122     6332.876712          18900.0  \n",
       "78  14669.421488    12255.045872          36600.0  \n",
       "\n",
       "[5 rows x 35 columns]"
      ]
     },
     "execution_count": 81,
     "metadata": {},
     "output_type": "execute_result"
    }
   ],
   "source": [
    "df.sample(5)"
   ]
  },
  {
   "cell_type": "markdown",
   "metadata": {},
   "source": [
    "***Количество рейсов:***\n"
   ]
  },
  {
   "cell_type": "code",
   "execution_count": 82,
   "metadata": {},
   "outputs": [
    {
     "data": {
      "text/plain": [
       "<AxesSubplot:ylabel='city'>"
      ]
     },
     "execution_count": 82,
     "metadata": {},
     "output_type": "execute_result"
    },
    {
     "data": {
      "image/png": "[encoded data removed]",
      "text/plain": [
       "<Figure size 432x288 with 1 Axes>"
      ]
     },
     "metadata": {},
     "output_type": "display_data"
    }
   ],
   "source": [
    "seaborn.barplot(x=df['city'].value_counts().index, y=df['city'].value_counts())"
   ]
  },
  {
   "cell_type": "code",
   "execution_count": 83,
   "metadata": {},
   "outputs": [
    {
     "data": {
      "text/plain": [
       "<AxesSubplot:ylabel='day_of_week'>"
      ]
     },
     "execution_count": 83,
     "metadata": {},
     "output_type": "execute_result"
    },
    {
     "data": {
      "image/png": "[encoded data removed]",
      "text/plain": [
       "<Figure size 432x288 with 1 Axes>"
      ]
     },
     "metadata": {},
     "output_type": "display_data"
    }
   ],
   "source": [
    "seaborn.barplot(x=df['day_of_week'].value_counts().index, y=df['day_of_week'].value_counts())"
   ]
  },
  {
   "cell_type": "code",
   "execution_count": 84,
   "metadata": {},
   "outputs": [
    {
     "data": {
      "text/plain": [
       "<AxesSubplot:ylabel='month'>"
      ]
     },
     "execution_count": 84,
     "metadata": {},
     "output_type": "execute_result"
    },
    {
     "data": {
      "image/png": "[encoded data removed]",
      "text/plain": [
       "<Figure size 432x288 with 1 Axes>"
      ]
     },
     "metadata": {},
     "output_type": "display_data"
    }
   ],
   "source": [
    "seaborn.barplot(x=df['month'].value_counts().index, y=df['month'].value_counts())"
   ]
  },
  {
   "cell_type": "markdown",
   "metadata": {},
   "source": [
    "***Вывод:*** <br> Видно, что большинство рейсов в Москву и Белгород <br>\n",
    "Количество рейсов по дням недели также примерно одинаково, кроме Вторника - рейсов больше! <br>\n",
    "Также видно в декабре рейсов не было!"
   ]
  },
  {
   "cell_type": "markdown",
   "metadata": {},
   "source": [
    "### Анализ направлений\n",
    "Среднне время полета"
   ]
  },
  {
   "cell_type": "code",
   "execution_count": 85,
   "metadata": {},
   "outputs": [
    {
     "data": {
      "text/plain": [
       "<AxesSubplot:xlabel='city'>"
      ]
     },
     "execution_count": 85,
     "metadata": {},
     "output_type": "execute_result"
    },
    {
     "data": {
      "image/png": "[encoded data removed]",
      "text/plain": [
       "<Figure size 432x288 with 1 Axes>"
      ]
     },
     "metadata": {},
     "output_type": "display_data"
    }
   ],
   "source": [
    "dff = df.groupby(['city'])['duration_minutes'].mean()\n",
    "seaborn.barplot(x=dff.index, y=dff.values)"
   ]
  },
  {
   "cell_type": "code",
   "execution_count": 86,
   "metadata": {},
   "outputs": [
    {
     "data": {
      "text/plain": [
       "city\n",
       "Belgorod        [Sukhoi Superjet-100]\n",
       "Moscow               [Boeing 737-300]\n",
       "Novokuznetsk         [Boeing 737-300]\n",
       "Name: plane_model, dtype: object"
      ]
     },
     "execution_count": 86,
     "metadata": {},
     "output_type": "execute_result"
    }
   ],
   "source": [
    "dff = df.groupby('city')['plane_model'].unique()\n",
    "dff"
   ]
  },
  {
   "cell_type": "markdown",
   "metadata": {},
   "source": [
    "### Таким образом для каждого города назначения летает только один тип самолета!\n",
    "\n",
    "Среднняя стоимость билетов пассажиров  по городам: "
   ]
  },
  {
   "cell_type": "code",
   "execution_count": 87,
   "metadata": {},
   "outputs": [
    {
     "data": {
      "text/plain": [
       "<AxesSubplot:xlabel='city'>"
      ]
     },
     "execution_count": 87,
     "metadata": {},
     "output_type": "execute_result"
    },
    {
     "data": {
      "image/png": "[encoded data removed]",
      "text/plain": [
       "<Figure size 432x288 with 1 Axes>"
      ]
     },
     "metadata": {},
     "output_type": "display_data"
    }
   ],
   "source": [
    "dff = df.groupby(['city'])['pass_summ'].mean()\n",
    "seaborn.barplot(x=dff.index, y=dff.values)"
   ]
  },
  {
   "cell_type": "code",
   "execution_count": 88,
   "metadata": {},
   "outputs": [
    {
     "data": {
      "text/html": [
       "<div>\n",
       "<style scoped>\n",
       "    .dataframe tbody tr th:only-of-type {\n",
       "        vertical-align: middle;\n",
       "    }\n",
       "\n",
       "    .dataframe tbody tr th {\n",
       "        vertical-align: top;\n",
       "    }\n",
       "\n",
       "    .dataframe thead th {\n",
       "        text-align: right;\n",
       "    }\n",
       "</style>\n",
       "<table border=\"1\" class=\"dataframe\">\n",
       "  <thead>\n",
       "    <tr style=\"text-align: right;\">\n",
       "      <th></th>\n",
       "      <th>pass_econom_summ</th>\n",
       "      <th>pass_bisiness_summ</th>\n",
       "      <th>pass_summ</th>\n",
       "    </tr>\n",
       "  </thead>\n",
       "  <tbody>\n",
       "    <tr>\n",
       "      <th>8</th>\n",
       "      <td>NaN</td>\n",
       "      <td>NaN</td>\n",
       "      <td>NaN</td>\n",
       "    </tr>\n",
       "    <tr>\n",
       "      <th>27</th>\n",
       "      <td>NaN</td>\n",
       "      <td>NaN</td>\n",
       "      <td>NaN</td>\n",
       "    </tr>\n",
       "    <tr>\n",
       "      <th>38</th>\n",
       "      <td>NaN</td>\n",
       "      <td>NaN</td>\n",
       "      <td>NaN</td>\n",
       "    </tr>\n",
       "    <tr>\n",
       "      <th>57</th>\n",
       "      <td>NaN</td>\n",
       "      <td>NaN</td>\n",
       "      <td>NaN</td>\n",
       "    </tr>\n",
       "    <tr>\n",
       "      <th>68</th>\n",
       "      <td>NaN</td>\n",
       "      <td>NaN</td>\n",
       "      <td>NaN</td>\n",
       "    </tr>\n",
       "    <tr>\n",
       "      <th>87</th>\n",
       "      <td>NaN</td>\n",
       "      <td>NaN</td>\n",
       "      <td>NaN</td>\n",
       "    </tr>\n",
       "    <tr>\n",
       "      <th>98</th>\n",
       "      <td>NaN</td>\n",
       "      <td>NaN</td>\n",
       "      <td>NaN</td>\n",
       "    </tr>\n",
       "    <tr>\n",
       "      <th>117</th>\n",
       "      <td>NaN</td>\n",
       "      <td>NaN</td>\n",
       "      <td>NaN</td>\n",
       "    </tr>\n",
       "    <tr>\n",
       "      <th>124</th>\n",
       "      <td>NaN</td>\n",
       "      <td>NaN</td>\n",
       "      <td>NaN</td>\n",
       "    </tr>\n",
       "  </tbody>\n",
       "</table>\n",
       "</div>"
      ],
      "text/plain": [
       "     pass_econom_summ  pass_bisiness_summ  pass_summ\n",
       "8                 NaN                 NaN        NaN\n",
       "27                NaN                 NaN        NaN\n",
       "38                NaN                 NaN        NaN\n",
       "57                NaN                 NaN        NaN\n",
       "68                NaN                 NaN        NaN\n",
       "87                NaN                 NaN        NaN\n",
       "98                NaN                 NaN        NaN\n",
       "117               NaN                 NaN        NaN\n",
       "124               NaN                 NaN        NaN"
      ]
     },
     "execution_count": 88,
     "metadata": {},
     "output_type": "execute_result"
    }
   ],
   "source": [
    "df[df['city'] == 'Novokuznetsk'][['pass_econom_summ', 'pass_bisiness_summ', 'pass_summ']]"
   ]
  },
  {
   "cell_type": "markdown",
   "metadata": {},
   "source": [
    "В датасете нет данных по рейсам в Novokuznetsk - ислючим данные из датасета. Так как нет данных по продажам билетов в это направление, есть затраты (оринтировочные), но нет данных по доходам , опиратся не на что - исключим данные из датасета.\n"
   ]
  },
  {
   "cell_type": "code",
   "execution_count": 89,
   "metadata": {},
   "outputs": [],
   "source": [
    "df = df[df['city'] != 'Novokuznetsk'].copy()"
   ]
  },
  {
   "cell_type": "markdown",
   "metadata": {},
   "source": [
    "### Анализ доходности рейсов (средняя заполняемость (бизнесс - эконом класс))\n",
    "1.1 Средняя прибыль по рейсам"
   ]
  },
  {
   "cell_type": "code",
   "execution_count": 91,
   "metadata": {},
   "outputs": [
    {
     "data": {
      "text/plain": [
       "<AxesSubplot:xlabel='city'>"
      ]
     },
     "execution_count": 91,
     "metadata": {},
     "output_type": "execute_result"
    },
    {
     "data": {
      "image/png": "[encoded data removed]",
      "text/plain": [
       "<Figure size 432x288 with 1 Axes>"
      ]
     },
     "metadata": {},
     "output_type": "display_data"
    }
   ],
   "source": [
    "dff = df.groupby(['city'])['profit'].mean()\n",
    "seaborn.barplot(x=dff.index, y=dff.values)"
   ]
  },
  {
   "cell_type": "markdown",
   "metadata": {},
   "source": [
    "1.2 Заполняемость рейса по пассажирам "
   ]
  },
  {
   "cell_type": "code",
   "execution_count": 92,
   "metadata": {},
   "outputs": [
    {
     "data": {
      "text/plain": [
       "<AxesSubplot:xlabel='city'>"
      ]
     },
     "execution_count": 92,
     "metadata": {},
     "output_type": "execute_result"
    },
    {
     "data": {
      "image/png": "[encoded data removed]",
      "text/plain": [
       "<Figure size 432x288 with 1 Axes>"
      ]
     },
     "metadata": {},
     "output_type": "display_data"
    }
   ],
   "source": [
    "dff = df.groupby(['city'])['occupancy'].mean()\n",
    "seaborn.barplot(x=dff.index, y=dff.values)"
   ]
  },
  {
   "cell_type": "code",
   "execution_count": 97,
   "metadata": {},
   "outputs": [
    {
     "data": {
      "text/plain": [
       "<AxesSubplot:xlabel='city'>"
      ]
     },
     "execution_count": 97,
     "metadata": {},
     "output_type": "execute_result"
    },
    {
     "data": {
      "image/png": "[encoded data removed]",
      "text/plain": [
       "<Figure size 432x288 with 1 Axes>"
      ]
     },
     "metadata": {},
     "output_type": "display_data"
    }
   ],
   "source": [
    "dff = df.groupby(['city'])['occupancy_econom'].mean()\n",
    "seaborn.barplot(x=dff.index, y=dff.values)"
   ]
  },
  {
   "cell_type": "code",
   "execution_count": 98,
   "metadata": {},
   "outputs": [
    {
     "data": {
      "text/plain": [
       "<AxesSubplot:xlabel='city'>"
      ]
     },
     "execution_count": 98,
     "metadata": {},
     "output_type": "execute_result"
    },
    {
     "data": {
      "image/png": "[encoded data removed]",
      "text/plain": [
       "<Figure size 432x288 with 1 Axes>"
      ]
     },
     "metadata": {},
     "output_type": "display_data"
    }
   ],
   "source": [
    "dff = df.groupby(['city'])['occupancy_bisness'].mean()\n",
    "seaborn.barplot(x=dff.index, y=dff.values)"
   ]
  },
  {
   "cell_type": "markdown",
   "metadata": {},
   "source": [
    "1.3 Доля типов пассажирских классов в общую сумму прибыли"
   ]
  },
  {
   "cell_type": "code",
   "execution_count": 99,
   "metadata": {},
   "outputs": [
    {
     "data": {
      "text/plain": [
       "<AxesSubplot:xlabel='city'>"
      ]
     },
     "execution_count": 99,
     "metadata": {},
     "output_type": "execute_result"
    },
    {
     "data": {
      "image/png": "[encoded data removed]",
      "text/plain": [
       "<Figure size 432x288 with 1 Axes>"
      ]
     },
     "metadata": {},
     "output_type": "display_data"
    }
   ],
   "source": [
    "dff = df.groupby(['city'])['deposit_profit'].mean()\n",
    "seaborn.barplot(x=dff.index, y=dff.values)"
   ]
  },
  {
   "cell_type": "code",
   "execution_count": 100,
   "metadata": {},
   "outputs": [
    {
     "data": {
      "text/plain": [
       "<AxesSubplot:xlabel='city'>"
      ]
     },
     "execution_count": 100,
     "metadata": {},
     "output_type": "execute_result"
    },
    {
     "data": {
      "image/png": "[encoded data removed]",
      "text/plain": [
       "<Figure size 432x288 with 1 Axes>"
      ]
     },
     "metadata": {},
     "output_type": "display_data"
    }
   ],
   "source": [
    "dff = df.groupby(['city'])['deposit'].mean()\n",
    "seaborn.barplot(x=dff.index, y=dff.values)"
   ]
  },
  {
   "cell_type": "code",
   "execution_count": 101,
   "metadata": {},
   "outputs": [
    {
     "data": {
      "text/plain": [
       "<AxesSubplot:xlabel='city'>"
      ]
     },
     "execution_count": 101,
     "metadata": {},
     "output_type": "execute_result"
    },
    {
     "data": {
      "image/png": "[encoded data removed]",
      "text/plain": [
       "<Figure size 432x288 with 1 Axes>"
      ]
     },
     "metadata": {},
     "output_type": "display_data"
    }
   ],
   "source": [
    "dff = df.groupby(['city'])['deposit_econom'].mean()\n",
    "seaborn.barplot(x=dff.index, y=dff.values)"
   ]
  },
  {
   "cell_type": "code",
   "execution_count": 102,
   "metadata": {},
   "outputs": [
    {
     "data": {
      "text/plain": [
       "<AxesSubplot:xlabel='city'>"
      ]
     },
     "execution_count": 102,
     "metadata": {},
     "output_type": "execute_result"
    },
    {
     "data": {
      "image/png": "[encoded data removed]",
      "text/plain": [
       "<Figure size 432x288 with 1 Axes>"
      ]
     },
     "metadata": {},
     "output_type": "display_data"
    }
   ],
   "source": [
    "dff = df.groupby(['city'])['deposit_bisness'].mean()\n",
    "seaborn.barplot(x=dff.index, y=dff.values)"
   ]
  },
  {
   "cell_type": "code",
   "execution_count": 103,
   "metadata": {},
   "outputs": [
    {
     "data": {
      "text/plain": [
       "<AxesSubplot:xlabel='city'>"
      ]
     },
     "execution_count": 103,
     "metadata": {},
     "output_type": "execute_result"
    },
    {
     "data": {
      "image/png": "[encoded data removed]",
      "text/plain": [
       "<Figure size 432x288 with 1 Axes>"
      ]
     },
     "metadata": {},
     "output_type": "display_data"
    }
   ],
   "source": [
    "dff = df.groupby(['city'])['part_bisness'].mean()\n",
    "seaborn.barplot(x=dff.index, y=dff.values)"
   ]
  },
  {
   "cell_type": "code",
   "execution_count": 104,
   "metadata": {},
   "outputs": [
    {
     "data": {
      "text/plain": [
       "<AxesSubplot:xlabel='city'>"
      ]
     },
     "execution_count": 104,
     "metadata": {},
     "output_type": "execute_result"
    },
    {
     "data": {
      "image/png": "[encoded data removed]",
      "text/plain": [
       "<Figure size 432x288 with 1 Axes>"
      ]
     },
     "metadata": {},
     "output_type": "display_data"
    }
   ],
   "source": [
    "dff = df.groupby(['city'])['part_econom'].mean()\n",
    "seaborn.barplot(x=dff.index, y=dff.values)"
   ]
  },
  {
   "cell_type": "code",
   "execution_count": null,
   "metadata": {},
   "outputs": [],
   "source": []
  },
  {
   "cell_type": "code",
   "execution_count": null,
   "metadata": {},
   "outputs": [],
   "source": []
  }
 ],
 "metadata": {
  "kernelspec": {
   "display_name": "Python 3",
   "language": "python",
   "name": "python3"
  },
  "language_info": {
   "codemirror_mode": {
    "name": "ipython",
    "version": 3
   },
   "file_extension": ".py",
   "mimetype": "text/x-python",
   "name": "python",
   "nbconvert_exporter": "python",
   "pygments_lexer": "ipython3",
   "version": "3.8.4"
  }
 },
 "nbformat": 4,
 "nbformat_minor": 1
}
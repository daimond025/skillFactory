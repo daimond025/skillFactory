{
 "cells": [
  {
   "cell_type": "code",
   "execution_count": 1,
   "metadata": {},
   "outputs": [],
   "source": [
    "from selenium import webdriver\n",
    "from selenium.webdriver.common.keys import Keys\n",
    "import time\n"
   ]
  },
  {
   "cell_type": "code",
   "execution_count": 2,
   "metadata": {},
   "outputs": [],
   "source": [
    "def run():\n",
    "    driver = webdriver.Chrome(executable_path='chromedriver.exe')\n",
    "    driver.get(\"https://tproger.ru/quiz/real-programmer/\")\n",
    "\n",
    "    button = driver.find_element_by_class_name(\"quiz_button\")\n",
    "    button.click()\n",
    "\n",
    "    begin_index = 255\n",
    "    while begin_index < 267:\n",
    "        item_id = f\"quiz_item_{begin_index}\"\n",
    "\n",
    "        # тест вопроса\n",
    "        question = driver.find_element_by_xpath('//*[@id=\"' + str(item_id) + '\"]/div[1]').text\n",
    "\n",
    "        # нажимаем на кнопку выбора ответа\n",
    "        answer = driver.find_element_by_xpath('//*[@id=\"' + str(item_id) + '\"]/div[2]/div[1]')\n",
    "        answer.click()\n",
    "\n",
    "        # выбор привильного ответа\n",
    "        right_ans = driver.find_element_by_xpath('//*[@id=\"' + str(item_id) + '\"]/div[2]/div[1]').text\n",
    "\n",
    "        print('Вопрос  -  ', question)\n",
    "        print('Правильный ответа  -  ', right_ans)\n",
    "        print('-------------------------------------------')\n",
    "\n",
    "        # на след вопрос\n",
    "        button_nxt = driver.find_element_by_xpath('//*[@id=\"' + str(item_id) + '\"]/button')\n",
    "        button_nxt.click()\n",
    "\n",
    "        begin_index += 1"
   ]
  },
  {
   "cell_type": "code",
   "execution_count": 3,
   "metadata": {},
   "outputs": [
    {
     "name": "stderr",
     "output_type": "stream",
     "text": [
      "<ipython-input-2-8eefcf49cd82>:2: DeprecationWarning: executable_path has been deprecated, please pass in a Service object\n",
      "  driver = webdriver.Chrome(executable_path='chromedriver.exe')\n",
      "<ipython-input-2-8eefcf49cd82>:5: DeprecationWarning: find_element_by_* commands are deprecated. Please use find_element() instead\n",
      "  button = driver.find_element_by_class_name(\"quiz_button\")\n",
      "<ipython-input-2-8eefcf49cd82>:13: DeprecationWarning: find_element_by_* commands are deprecated. Please use find_element() instead\n",
      "  question = driver.find_element_by_xpath('//*[@id=\"' + str(item_id) + '\"]/div[1]').text\n",
      "<ipython-input-2-8eefcf49cd82>:16: DeprecationWarning: find_element_by_* commands are deprecated. Please use find_element() instead\n",
      "  answer = driver.find_element_by_xpath('//*[@id=\"' + str(item_id) + '\"]/div[2]/div[1]')\n",
      "<ipython-input-2-8eefcf49cd82>:20: DeprecationWarning: find_element_by_* commands are deprecated. Please use find_element() instead\n",
      "  right_ans = driver.find_element_by_xpath('//*[@id=\"' + str(item_id) + '\"]/div[2]/div[1]').text\n"
     ]
    },
    {
     "name": "stdout",
     "output_type": "stream",
     "text": [
      "Вопрос  -   Начнём с простого. Какую первую программу обычно пишут программисты?\n",
      "Правильный ответа  -   Hello world\n",
      "Да, конечно. Это все знают.\n",
      "90%\n",
      "-------------------------------------------\n"
     ]
    },
    {
     "name": "stderr",
     "output_type": "stream",
     "text": [
      "<ipython-input-2-8eefcf49cd82>:27: DeprecationWarning: find_element_by_* commands are deprecated. Please use find_element() instead\n",
      "  button_nxt = driver.find_element_by_xpath('//*[@id=\"' + str(item_id) + '\"]/button')\n"
     ]
    },
    {
     "name": "stdout",
     "output_type": "stream",
     "text": [
      "Вопрос  -   Бывает ли так, что программа скомпилировалась с первого раза и без ошибок?\n",
      "Правильный ответа  -   Да, конечно\n",
      "Вы уверены, что хотя бы раз писали настоящий код и пытались его скомпилировать? Не бывает с первого раза.\n",
      "25%\n",
      "-------------------------------------------\n",
      "Вопрос  -   Представим гипотетическую ситуацию, в которой программа всё-таки скомпилировалась с первого раза. Как вы поступите?\n",
      "Правильный ответа  -   Выключу комп и спокойно пойду спать — дело сделано\n",
      "Вас предыдущий вопрос ничему не научил? Не бывает такого.\n",
      "5%\n",
      "-------------------------------------------\n",
      "Вопрос  -   Движемся дальше. Вопрос на проверку логического мышления. Допустим, вы пишете проект, и заказчик утвердил документ, в котором чётко написано, что он хочет получить в результате. Назовём его ТЗ. Изменятся ли требования в процессе работы над проектом?\n",
      "Правильный ответа  -   Изменятся, конечно\n",
      "Обычно так и бывает, да. Заказчик сам не знает, чего хочет.\n",
      "89%\n",
      "-------------------------------------------\n",
      "Вопрос  -   Какой правильный ответ на вопрос про рекурсию?\n",
      "Правильный ответа  -   Да\n",
      "У вас ошибка типов. Перечитайте вопрос.\n",
      "6%\n",
      "-------------------------------------------\n",
      "Вопрос  -   Представьте, что вы пишете программу и при попытке её сборки компилятор выдал вам одну ошибку. Вы исправили её и пробуете собрать проект ещё раз. Сколько теперь будет ошибок?\n",
      "Правильный ответа  -   Была одна, теперь ошибок не будет\n",
      "Очень самоуверенное предположение. Вы вполне могли накосячить, исправляя этот баг, и их станет только больше.\n",
      "6%\n",
      "-------------------------------------------\n",
      "Вопрос  -   Вы пришли на проект, над которым раньше работал другой программист. Что можно сказать о его коде?\n",
      "Правильный ответа  -   Надо сначала детально изучить проект, чтобы понять это\n",
      "Что там изучать, если этот код писали не вы сами? Впрочем, даже если это ваш код, то через год вы будете к нему относиться так же плохо.\n",
      "12%\n",
      "-------------------------------------------\n",
      "Вопрос  -   Перед вами три дерева. На том, что посередине, сидит кот. На дереве с каким индексом сидит кот?\n",
      "Правильный ответа  -   2\n",
      "Нет. Простите, но как вы считали? Скиньте в комменты, очень интересно.\n",
      "6%\n",
      "-------------------------------------------\n",
      "Вопрос  -   Теперь чуть сложнее. Что такое Пик Балмера?\n",
      "Правильный ответа  -   Гора в Северной Америке\n",
      "Неправильно. Это шуточный феномен, ставший популярным после комикса на xkcd. Погуглите.\n",
      "9%\n",
      "-------------------------------------------\n",
      "Вопрос  -   Что такое стринги?\n",
      "Правильный ответа  -   Разновидность мини-трусиков\n",
      "В принципе, конечно, да. Но нет. Тест же про программистов.\n",
      "7%\n",
      "-------------------------------------------\n",
      "Вопрос  -   Какое максимальное число из перечисленных можно показать пальцами одной руки?\n",
      "Правильный ответа  -   5\n",
      "Это было бы слишком просто. Используйте двоичную систему счисления — загнутый палец будет ноль, разогнутый — один.\n",
      "18%\n",
      "-------------------------------------------\n",
      "Вопрос  -   Буратино дали три яблока. Два он съел. Сколько яблок осталось у Буратино?\n",
      "Правильный ответа  -   Одно\n",
      "А вот и нет! Вы же не знаете, сколько яблок у него было изначально. Мораль — обнуляйте переменные.\n",
      "14%\n",
      "-------------------------------------------\n"
     ]
    }
   ],
   "source": [
    "run()"
   ]
  },
  {
   "cell_type": "code",
   "execution_count": null,
   "metadata": {},
   "outputs": [],
   "source": []
  }
 ],
 "metadata": {
  "kernelspec": {
   "display_name": "Python 3",
   "language": "python",
   "name": "python3"
  },
  "language_info": {
   "codemirror_mode": {
    "name": "ipython",
    "version": 3
   },
   "file_extension": ".py",
   "mimetype": "text/x-python",
   "name": "python",
   "nbconvert_exporter": "python",
   "pygments_lexer": "ipython3",
   "version": "3.8.4"
  }
 },
 "nbformat": 4,
 "nbformat_minor": 1
}
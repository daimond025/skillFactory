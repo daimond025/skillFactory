{
 "cells": [
  {
   "cell_type": "markdown",
   "metadata": {},
   "source": [
    "## Цели и задачи проекта \n",
    "\n",
    "**Цель** - анализ данных и выборка признаков модели\n",
    "\n",
    "**Задачи** \n",
    "    - проверить качество данных\n",
    "    - провести корреляционный анализ количественных признаков\n",
    "    - выбор признаков влияющих на баллы по математике"
   ]
  },
  {
   "cell_type": "markdown",
   "metadata": {},
   "source": [
    "## Информация о данных  \n",
    "Закономерености данных:\n",
    "\n",
    "- нет в данных строковых данных, чтобы они отображадлись \"криво\" (неполно), поэтому не стал внедрнять функцию обработки стокровых столбцов (как функция fix_countries в примере )\n",
    "\n",
    "- почти все числовые характириски являются по факту номинативными, но выраженными числами\n",
    "\n",
    "- при обработке выбросов замечено, что у некоторых столбцов 25 процентиль равен 75 процентилю, в этом случае я не проводил фильтрацию данных по выбросам (данные надо удалять осторожно !!!!)\n",
    "\n",
    "- логика обработки данных следующая\n",
    "\n",
    "    - поиск пропусков и замена их на None\n",
    "    - проверка того, что значение имеет валидное значение если невалидное значение замена его на None\n",
    "    - заполнение пропусков в строках модами, самыми встречающими значениями\n",
    "    - фильтрация выбросов\n",
    "    \n",
    " Такой подход позволил сохранить большинство значений в выборке (300 значений)\n"
   ]
  },
  {
   "cell_type": "markdown",
   "metadata": {},
   "source": [
    "## Этапы работа:\n",
    "1. Первичная обработка данных, устранение выбросов, замена пропусков на моду и т.п.\n",
    "2. Анализ распределения  числовых  признаков\n",
    "3. Анализ распределения  номинативных   признаков\n",
    "4. Корреляционный анализ  числовых  признаков\n",
    "5. Анализ номинативных переменных и устранить те, которые не влияют на предсказываемую величину \n",
    "6. Выводы"
   ]
  },
  {
   "cell_type": "code",
   "execution_count": 1,
   "metadata": {},
   "outputs": [],
   "source": [
    "import pandas as pd\n",
    "import matplotlib.pyplot as plt\n",
    "import seaborn as sns\n",
    "from itertools import combinations\n",
    "from scipy.stats import ttest_ind\n",
    "\n",
    "import warnings\n",
    "warnings.filterwarnings(\"ignore\")"
   ]
  },
  {
   "cell_type": "markdown",
   "metadata": {},
   "source": [
    "### Функции бывают:\n",
    "*простые* -  выполняющие только простые действия например: замена пропуска значения на None, фильтрация выбросов и\n",
    "*составные* - состоят из простых функций\n",
    "\n",
    "**простые**\n",
    " - determNoneValue - замена пропусков данных  модами\n",
    " - outliersData - функция фильтраци выбросов\n",
    " - replaceEmptySkipValue -  универсаклная функция замены пропуска  none\n",
    " \n",
    "**составные**  \n",
    " - ordanaryValidValue - преобразование незвестного значения\n",
    " - permitValidValue -  фильтрация данных на валидных значениях + значение по умочанию\n",
    " - permitPositivValue - фильтрация положительных данных\n",
    "\n"
   ]
  },
  {
   "cell_type": "code",
   "execution_count": 2,
   "metadata": {},
   "outputs": [],
   "source": [
    "#  универсаклная функция замены пропуска  none\n",
    "def replaceEmptySkipValue(data, columns):\n",
    "    for column in columns:\n",
    "        data[column] = data[column].apply(\n",
    "            lambda x: None if pd.isnull(x) else (None if (x == 'nan' or str(x).strip() == '') else x))\n",
    "    return data\n",
    "\n",
    "\n",
    "# преобразование незвестного значения\n",
    "def ordanaryValidValue(data, column, needOutliersData=False):\n",
    "    data = replaceEmptySkipValue(data, [column])\n",
    "\n",
    "    data = determNoneValue(data, column)\n",
    "\n",
    "    if needOutliersData:\n",
    "        data = outliersData(data, column)\n",
    "\n",
    "    return data\n",
    "\n",
    "\n",
    "# фильтрация данных на валидных значениях + значение по умочанию\n",
    "def permitValidValue(data, column, premit_value, defaulVaue=None, needOutliersData=False):\n",
    "    data = replaceEmptySkipValue(data, [column])\n",
    "\n",
    "    data[column] = data[column].apply(lambda x: x if x in premit_value else defaulVaue)\n",
    "\n",
    "    data = determNoneValue(data, column)\n",
    "    if needOutliersData:\n",
    "        data = outliersData(data, column)\n",
    "    return data\n",
    "\n",
    "\n",
    "# фильтрация положительных данных\n",
    "def permitPositivValue(data, column, defaulVaue=None, needOutliersData=False):\n",
    "    data = replaceEmptySkipValue(data, [column])\n",
    "    data[column] = data[column].apply(lambda x: int(x) if x >= 0 else defaulVaue)\n",
    "\n",
    "    data = determNoneValue(data, column)\n",
    "    if needOutliersData:\n",
    "        data = outliersData(data, column)\n",
    "\n",
    "    return data\n",
    "\n",
    "\n",
    "# замена пропусков данных модами\n",
    "def determNoneValue(data, column):\n",
    "    value_ = data[column].mode()[0]\n",
    "    data.loc[:, column].fillna(value_, inplace=True)\n",
    "    return data\n",
    "\n",
    "\n",
    "#  функция фильтраци выбросов - если квинтили равны  -  не делаем выросы - распределени примено одинаково\n",
    "def outliersData(data, column):\n",
    "    quantile_3 = data[column].quantile(0.75)\n",
    "    quantile_1 = data[column].quantile(0.25)\n",
    "    if quantile_3 == quantile_1:\n",
    "        return data\n",
    "\n",
    "    IQR = quantile_3 - quantile_1\n",
    "    column_min = quantile_1 - 1.5 * IQR\n",
    "    column_max = quantile_3 + 1.5 * IQR\n",
    "\n",
    "    data = data[data[column].between(column_min, column_max)]\n",
    "    return data\n"
   ]
  },
  {
   "cell_type": "markdown",
   "metadata": {},
   "source": [
    "## 1. Первичная обработка данных, устранение выбросов, замена пропусков на моду и т.п.\n",
    "### Загрузка данных:"
   ]
  },
  {
   "cell_type": "code",
   "execution_count": 3,
   "metadata": {},
   "outputs": [],
   "source": [
    "student = pd.read_csv(\"stud_math.xls\")\n",
    "#  неизвестный столбец - лишнеи данные не помешают \n",
    "student.rename(columns={'studytime, granular': 'granular'}, inplace=True)"
   ]
  },
  {
   "cell_type": "markdown",
   "metadata": {},
   "source": [
    "##  2. Анализ распределения  числовых  признаков"
   ]
  },
  {
   "cell_type": "markdown",
   "metadata": {},
   "source": [
    "**Age** - выбросов нет, значение лежит в интервале от 15 до 22"
   ]
  },
  {
   "cell_type": "code",
   "execution_count": 4,
   "metadata": {},
   "outputs": [
    {
     "data": {
      "text/plain": [
       "<AxesSubplot:>"
      ]
     },
     "execution_count": 4,
     "metadata": {},
     "output_type": "execute_result"
    },
    {
     "data": {
      "image/png": "[encoded data removed]",
      "text/plain": [
       "<Figure size 432x288 with 1 Axes>"
      ]
     },
     "metadata": {
      "needs_background": "light"
     },
     "output_type": "display_data"
    }
   ],
   "source": [
    "student = permitPositivValue(student, 'age')\n",
    "student['age'].hist()"
   ]
  },
  {
   "cell_type": "markdown",
   "metadata": {},
   "source": [
    "**granular** - неизвестный параметр"
   ]
  },
  {
   "cell_type": "code",
   "execution_count": 5,
   "metadata": {},
   "outputs": [
    {
     "data": {
      "text/plain": [
       "<AxesSubplot:>"
      ]
     },
     "execution_count": 5,
     "metadata": {},
     "output_type": "execute_result"
    },
    {
     "data": {
      "image/png": "[encoded data removed]",
      "text/plain": [
       "<Figure size 432x288 with 1 Axes>"
      ]
     },
     "metadata": {
      "needs_background": "light"
     },
     "output_type": "display_data"
    }
   ],
   "source": [
    "student = ordanaryValidValue(student, 'granular', needOutliersData=True)\n",
    "student['granular'].hist()"
   ]
  },
  {
   "cell_type": "markdown",
   "metadata": {},
   "source": [
    "**Medu** - образование матери , доступыне значения (0,1,2,3,4)"
   ]
  },
  {
   "cell_type": "code",
   "execution_count": 6,
   "metadata": {},
   "outputs": [
    {
     "data": {
      "text/plain": [
       "<AxesSubplot:>"
      ]
     },
     "execution_count": 6,
     "metadata": {},
     "output_type": "execute_result"
    },
    {
     "data": {
      "image/png": "[encoded data removed]",
      "text/plain": [
       "<Figure size 432x288 with 1 Axes>"
      ]
     },
     "metadata": {
      "needs_background": "light"
     },
     "output_type": "display_data"
    }
   ],
   "source": [
    "student = permitValidValue(student, 'Medu', [0, 1, 2, 3, 4], needOutliersData=True)\n",
    "student['Medu'].hist()"
   ]
  },
  {
   "cell_type": "markdown",
   "metadata": {},
   "source": [
    "**Fedu** - образование отца , доступыне значения (0,1,2,3,4)"
   ]
  },
  {
   "cell_type": "code",
   "execution_count": 7,
   "metadata": {},
   "outputs": [
    {
     "data": {
      "text/plain": [
       "<AxesSubplot:>"
      ]
     },
     "execution_count": 7,
     "metadata": {},
     "output_type": "execute_result"
    },
    {
     "data": {
      "image/png": "[encoded data removed]",
      "text/plain": [
       "<Figure size 432x288 with 1 Axes>"
      ]
     },
     "metadata": {
      "needs_background": "light"
     },
     "output_type": "display_data"
    }
   ],
   "source": [
    "student = permitValidValue(student, 'Fedu', [0, 1, 2, 3, 4], needOutliersData=True)\n",
    "student['Fedu'].hist()"
   ]
  },
  {
   "cell_type": "markdown",
   "metadata": {},
   "source": [
    "**traveltime** - время в пути до школы (1,2,3,4)"
   ]
  },
  {
   "cell_type": "code",
   "execution_count": 8,
   "metadata": {},
   "outputs": [
    {
     "data": {
      "text/plain": [
       "<AxesSubplot:>"
      ]
     },
     "execution_count": 8,
     "metadata": {},
     "output_type": "execute_result"
    },
    {
     "data": {
      "image/png": "[encoded data removed]",
      "text/plain": [
       "<Figure size 432x288 with 1 Axes>"
      ]
     },
     "metadata": {
      "needs_background": "light"
     },
     "output_type": "display_data"
    }
   ],
   "source": [
    "student = permitValidValue(student, 'traveltime', [1, 2, 3, 4], needOutliersData=True)\n",
    "student['traveltime'].hist()"
   ]
  },
  {
   "cell_type": "markdown",
   "metadata": {},
   "source": [
    "**studytime**  - время на учёбу помимо школы в неделю"
   ]
  },
  {
   "cell_type": "code",
   "execution_count": 9,
   "metadata": {},
   "outputs": [
    {
     "data": {
      "text/plain": [
       "<AxesSubplot:>"
      ]
     },
     "execution_count": 9,
     "metadata": {},
     "output_type": "execute_result"
    },
    {
     "data": {
      "image/png": "[encoded data removed]",
      "text/plain": [
       "<Figure size 432x288 with 1 Axes>"
      ]
     },
     "metadata": {
      "needs_background": "light"
     },
     "output_type": "display_data"
    }
   ],
   "source": [
    "student = permitValidValue(student, 'studytime', [1, 2, 3, 4], needOutliersData=True)\n",
    "student['studytime'].hist()"
   ]
  },
  {
   "cell_type": "markdown",
   "metadata": {},
   "source": [
    "**failures**- количество внеучебных неудач"
   ]
  },
  {
   "cell_type": "code",
   "execution_count": 10,
   "metadata": {},
   "outputs": [
    {
     "data": {
      "text/plain": [
       "<AxesSubplot:>"
      ]
     },
     "execution_count": 10,
     "metadata": {},
     "output_type": "execute_result"
    },
    {
     "data": {
      "image/png": "[encoded data removed]",
      "text/plain": [
       "<Figure size 432x288 with 1 Axes>"
      ]
     },
     "metadata": {
      "needs_background": "light"
     },
     "output_type": "display_data"
    }
   ],
   "source": [
    "student = permitValidValue(student, 'failures', [1, 2, 3], defaulVaue=0, needOutliersData=True)\n",
    "student['failures'].hist()"
   ]
  },
  {
   "cell_type": "markdown",
   "metadata": {},
   "source": [
    "**famrel** - семейные отношения"
   ]
  },
  {
   "cell_type": "code",
   "execution_count": 11,
   "metadata": {},
   "outputs": [
    {
     "data": {
      "text/plain": [
       "<AxesSubplot:>"
      ]
     },
     "execution_count": 11,
     "metadata": {},
     "output_type": "execute_result"
    },
    {
     "data": {
      "image/png": "[encoded data removed]",
      "text/plain": [
       "<Figure size 432x288 with 1 Axes>"
      ]
     },
     "metadata": {
      "needs_background": "light"
     },
     "output_type": "display_data"
    }
   ],
   "source": [
    "student = permitValidValue(student, 'famrel', [1, 2, 3, 4, 5], needOutliersData=True)\n",
    "student['famrel'].hist()"
   ]
  },
  {
   "cell_type": "markdown",
   "metadata": {},
   "source": [
    "**freetime** - свободное время после школы"
   ]
  },
  {
   "cell_type": "code",
   "execution_count": 12,
   "metadata": {},
   "outputs": [
    {
     "data": {
      "text/plain": [
       "<AxesSubplot:>"
      ]
     },
     "execution_count": 12,
     "metadata": {},
     "output_type": "execute_result"
    },
    {
     "data": {
      "image/png": "[encoded data removed]",
      "text/plain": [
       "<Figure size 432x288 with 1 Axes>"
      ]
     },
     "metadata": {
      "needs_background": "light"
     },
     "output_type": "display_data"
    }
   ],
   "source": [
    "student = permitValidValue(student, 'freetime', [1, 2, 3, 4, 5], needOutliersData=True)\n",
    "student['freetime'].hist()"
   ]
  },
  {
   "cell_type": "markdown",
   "metadata": {},
   "source": [
    "**goout** - проведение времени с друзьями"
   ]
  },
  {
   "cell_type": "code",
   "execution_count": 13,
   "metadata": {},
   "outputs": [
    {
     "data": {
      "text/plain": [
       "<AxesSubplot:>"
      ]
     },
     "execution_count": 13,
     "metadata": {},
     "output_type": "execute_result"
    },
    {
     "data": {
      "image/png": "[encoded data removed]",
      "text/plain": [
       "<Figure size 432x288 with 1 Axes>"
      ]
     },
     "metadata": {
      "needs_background": "light"
     },
     "output_type": "display_data"
    }
   ],
   "source": [
    "student = permitValidValue(student, 'goout', [1, 2, 3, 4, 5], needOutliersData=True)\n",
    "student['goout'].hist()"
   ]
  },
  {
   "cell_type": "markdown",
   "metadata": {},
   "source": [
    "**goout** - текущее состояние здоровья"
   ]
  },
  {
   "cell_type": "code",
   "execution_count": 14,
   "metadata": {},
   "outputs": [
    {
     "data": {
      "text/plain": [
       "<AxesSubplot:>"
      ]
     },
     "execution_count": 14,
     "metadata": {},
     "output_type": "execute_result"
    },
    {
     "data": {
      "image/png": "[encoded data removed]",
      "text/plain": [
       "<Figure size 432x288 with 1 Axes>"
      ]
     },
     "metadata": {
      "needs_background": "light"
     },
     "output_type": "display_data"
    }
   ],
   "source": [
    "student = permitValidValue(student, 'health', [1, 2, 3, 4, 5], needOutliersData=True)\n",
    "student['health'].hist()"
   ]
  },
  {
   "cell_type": "markdown",
   "metadata": {},
   "source": [
    "**absences**  -  количество пропущенных занятий"
   ]
  },
  {
   "cell_type": "code",
   "execution_count": 15,
   "metadata": {},
   "outputs": [
    {
     "data": {
      "text/plain": [
       "<AxesSubplot:>"
      ]
     },
     "execution_count": 15,
     "metadata": {},
     "output_type": "execute_result"
    },
    {
     "data": {
      "image/png": "[encoded data removed]",
      "text/plain": [
       "<Figure size 432x288 with 1 Axes>"
      ]
     },
     "metadata": {
      "needs_background": "light"
     },
     "output_type": "display_data"
    }
   ],
   "source": [
    "student = permitPositivValue(student, 'absences', needOutliersData=True)\n",
    "student['absences'].hist()"
   ]
  },
  {
   "cell_type": "markdown",
   "metadata": {},
   "source": [
    "**score** — баллы по госэкзамену по математике"
   ]
  },
  {
   "cell_type": "code",
   "execution_count": 16,
   "metadata": {},
   "outputs": [
    {
     "data": {
      "text/plain": [
       "<AxesSubplot:>"
      ]
     },
     "execution_count": 16,
     "metadata": {},
     "output_type": "execute_result"
    },
    {
     "data": {
      "image/png": "[encoded data removed]",
      "text/plain": [
       "<Figure size 432x288 with 1 Axes>"
      ]
     },
     "metadata": {
      "needs_background": "light"
     },
     "output_type": "display_data"
    }
   ],
   "source": [
    "student = permitPositivValue(student, 'score', needOutliersData=True)\n",
    "student['score'].hist()"
   ]
  },
  {
   "cell_type": "markdown",
   "metadata": {},
   "source": [
    "## 3. Анализ распределения номинативных признаков"
   ]
  },
  {
   "cell_type": "markdown",
   "metadata": {},
   "source": [
    "**sex** — пол ученика ('F' - женский, 'M' - мужской)"
   ]
  },
  {
   "cell_type": "code",
   "execution_count": 17,
   "metadata": {},
   "outputs": [
    {
     "data": {
      "text/plain": [
       "<AxesSubplot:>"
      ]
     },
     "execution_count": 17,
     "metadata": {},
     "output_type": "execute_result"
    },
    {
     "data": {
      "image/png": "[encoded data removed]",
      "text/plain": [
       "<Figure size 432x288 with 1 Axes>"
      ]
     },
     "metadata": {
      "needs_background": "light"
     },
     "output_type": "display_data"
    }
   ],
   "source": [
    "student = permitValidValue(student, 'sex', ['F', 'M'])\n",
    "student['sex'].hist()"
   ]
  },
  {
   "cell_type": "markdown",
   "metadata": {},
   "source": [
    "**address** — тип адреса ученика ('U' - городской, 'R' - за городом)"
   ]
  },
  {
   "cell_type": "code",
   "execution_count": 18,
   "metadata": {},
   "outputs": [
    {
     "data": {
      "text/plain": [
       "<AxesSubplot:>"
      ]
     },
     "execution_count": 18,
     "metadata": {},
     "output_type": "execute_result"
    },
    {
     "data": {
      "image/png": "[encoded data removed]",
      "text/plain": [
       "<Figure size 432x288 with 1 Axes>"
      ]
     },
     "metadata": {
      "needs_background": "light"
     },
     "output_type": "display_data"
    }
   ],
   "source": [
    "student = permitValidValue(student, 'address', ['U', 'R'])\n",
    "student['address'].hist()"
   ]
  },
  {
   "cell_type": "markdown",
   "metadata": {},
   "source": [
    "**famsize** — размер семьи('LE3' <= 3, 'GT3' >3)"
   ]
  },
  {
   "cell_type": "code",
   "execution_count": 19,
   "metadata": {},
   "outputs": [
    {
     "data": {
      "text/plain": [
       "<AxesSubplot:>"
      ]
     },
     "execution_count": 19,
     "metadata": {},
     "output_type": "execute_result"
    },
    {
     "data": {
      "image/png": "[encoded data removed]",
      "text/plain": [
       "<Figure size 432x288 with 1 Axes>"
      ]
     },
     "metadata": {
      "needs_background": "light"
     },
     "output_type": "display_data"
    }
   ],
   "source": [
    "student = permitValidValue(student, 'famsize', ['LE3', 'GT3'])\n",
    "student['famsize'].hist()"
   ]
  },
  {
   "cell_type": "markdown",
   "metadata": {},
   "source": [
    "**Pstatus** - статус совместного жилья родителей ('T' - живут вместе 'A' - раздельно)"
   ]
  },
  {
   "cell_type": "code",
   "execution_count": 20,
   "metadata": {},
   "outputs": [
    {
     "data": {
      "text/plain": [
       "<AxesSubplot:>"
      ]
     },
     "execution_count": 20,
     "metadata": {},
     "output_type": "execute_result"
    },
    {
     "data": {
      "image/png": "[encoded data removed]",
      "text/plain": [
       "<Figure size 432x288 with 1 Axes>"
      ]
     },
     "metadata": {
      "needs_background": "light"
     },
     "output_type": "display_data"
    }
   ],
   "source": [
    "student = permitValidValue(student, 'Pstatus', ['T', 'A'])\n",
    "student['Pstatus'].hist()"
   ]
  },
  {
   "cell_type": "markdown",
   "metadata": {},
   "source": [
    "**Mjob** - работа матери"
   ]
  },
  {
   "cell_type": "code",
   "execution_count": 21,
   "metadata": {},
   "outputs": [
    {
     "data": {
      "text/plain": [
       "<AxesSubplot:>"
      ]
     },
     "execution_count": 21,
     "metadata": {},
     "output_type": "execute_result"
    },
    {
     "data": {
      "image/png": "[encoded data removed]",
      "text/plain": [
       "<Figure size 432x288 with 1 Axes>"
      ]
     },
     "metadata": {
      "needs_background": "light"
     },
     "output_type": "display_data"
    }
   ],
   "source": [
    "student = permitValidValue(student, 'Mjob', ['teacher', 'health', 'services', 'at_home', 'other'])\n",
    "student['Mjob'].hist()"
   ]
  },
  {
   "cell_type": "markdown",
   "metadata": {},
   "source": [
    "**Fjob**  - работа отца"
   ]
  },
  {
   "cell_type": "code",
   "execution_count": null,
   "metadata": {
    "pycharm": {
     "is_executing": true
    }
   },
   "outputs": [
    {
     "data": {
      "text/plain": [
       "<AxesSubplot:>"
      ]
     },
     "execution_count": 22,
     "metadata": {},
     "output_type": "execute_result"
    }
   ],
   "source": [
    "student = permitValidValue(student, 'Fjob', ['teacher', 'health', 'services', 'at_home', 'other'])\n",
    "student['Fjob'].hist()"
   ]
  },
  {
   "cell_type": "markdown",
   "metadata": {},
   "source": [
    "**reason**  — причина выбора школы"
   ]
  },
  {
   "cell_type": "code",
   "execution_count": null,
   "metadata": {
    "pycharm": {
     "is_executing": true
    }
   },
   "outputs": [],
   "source": [
    "student = permitValidValue(student, 'reason', ['home', 'reputation', 'course', 'other'])\n",
    "student['reason'].hist()"
   ]
  },
  {
   "cell_type": "markdown",
   "metadata": {},
   "source": [
    "**guardian**  — опекун"
   ]
  },
  {
   "cell_type": "code",
   "execution_count": null,
   "metadata": {
    "pycharm": {
     "is_executing": true
    }
   },
   "outputs": [],
   "source": [
    "student = permitValidValue(student, 'guardian', ['mother', 'father', 'other'])\n",
    "student['guardian'].hist()"
   ]
  },
  {
   "cell_type": "markdown",
   "metadata": {},
   "source": [
    "**schoolsup** - дополнительная образовательная поддержка"
   ]
  },
  {
   "cell_type": "code",
   "execution_count": null,
   "metadata": {
    "pycharm": {
     "is_executing": true
    }
   },
   "outputs": [],
   "source": [
    "student = permitValidValue(student, 'schoolsup', ['yes', 'no'])\n",
    "student['schoolsup'].hist()"
   ]
  },
  {
   "cell_type": "markdown",
   "metadata": {},
   "source": [
    "**famsup** — семейная образовательная поддержка"
   ]
  },
  {
   "cell_type": "code",
   "execution_count": null,
   "metadata": {
    "pycharm": {
     "is_executing": true
    }
   },
   "outputs": [],
   "source": [
    "student = permitValidValue(student, 'famsup', ['yes', 'no'])\n",
    "student['famsup'].hist()"
   ]
  },
  {
   "cell_type": "markdown",
   "metadata": {},
   "source": [
    "**paid** — дополнительные платные занятия по математике"
   ]
  },
  {
   "cell_type": "code",
   "execution_count": null,
   "metadata": {
    "pycharm": {
     "is_executing": true
    }
   },
   "outputs": [],
   "source": [
    "student = permitValidValue(student, 'paid', ['yes', 'no'])\n",
    "student['paid'].hist()"
   ]
  },
  {
   "cell_type": "markdown",
   "metadata": {},
   "source": [
    "**activities** — дополнительные внеучебные занятия"
   ]
  },
  {
   "cell_type": "code",
   "execution_count": null,
   "metadata": {
    "pycharm": {
     "is_executing": true
    }
   },
   "outputs": [],
   "source": [
    "student = permitValidValue(student, 'activities', ['yes', 'no'])\n",
    "student['activities'].hist()"
   ]
  },
  {
   "cell_type": "markdown",
   "metadata": {},
   "source": [
    "**nursery** — посещал детский сад"
   ]
  },
  {
   "cell_type": "code",
   "execution_count": null,
   "metadata": {
    "pycharm": {
     "is_executing": true
    }
   },
   "outputs": [],
   "source": [
    "student = permitValidValue(student, 'nursery', ['yes', 'no'])\n",
    "student['nursery'].hist()"
   ]
  },
  {
   "cell_type": "markdown",
   "metadata": {},
   "source": [
    "**higher** — хочет получить высшее образование"
   ]
  },
  {
   "cell_type": "code",
   "execution_count": null,
   "metadata": {
    "pycharm": {
     "is_executing": true
    }
   },
   "outputs": [],
   "source": [
    "student = permitValidValue(student, 'higher', ['yes', 'no'])\n",
    "student['higher'].hist()"
   ]
  },
  {
   "cell_type": "markdown",
   "metadata": {},
   "source": [
    "**internet** — наличие интернета дома"
   ]
  },
  {
   "cell_type": "code",
   "execution_count": null,
   "metadata": {
    "pycharm": {
     "is_executing": true
    }
   },
   "outputs": [],
   "source": [
    "student = permitValidValue(student, 'internet', ['yes', 'no'])\n",
    "student['internet'].hist()"
   ]
  },
  {
   "cell_type": "markdown",
   "metadata": {},
   "source": [
    "**romantic** — в романтических отношениях"
   ]
  },
  {
   "cell_type": "code",
   "execution_count": null,
   "metadata": {
    "pycharm": {
     "is_executing": true
    }
   },
   "outputs": [],
   "source": [
    "student = permitValidValue(student, 'romantic', ['yes', 'no'])\n",
    "student['romantic'].hist()"
   ]
  },
  {
   "cell_type": "markdown",
   "metadata": {},
   "source": [
    "## 4. Корреляционный анализ числовых признаков\n",
    "Взаимосвязи между числовыми параметрам (плохо поддается анализу!)"
   ]
  },
  {
   "cell_type": "code",
   "execution_count": null,
   "metadata": {
    "pycharm": {
     "is_executing": true
    }
   },
   "outputs": [],
   "source": [
    "sns.pairplot(student, kind = 'reg')"
   ]
  },
  {
   "cell_type": "markdown",
   "metadata": {},
   "source": [
    "### Вывод сильно скорелированных значений"
   ]
  },
  {
   "cell_type": "code",
   "execution_count": null,
   "metadata": {
    "pycharm": {
     "is_executing": true
    }
   },
   "outputs": [],
   "source": [
    "correlation = student.corr()\n",
    "print(correlation[(correlation >= 0.4) | (correlation <= -0.4)])"
   ]
  },
  {
   "cell_type": "markdown",
   "metadata": {},
   "source": [
    "**Выводы** на основе корреляционного анализа количественных переменных:\n",
    "- неизвестный параметр granular  полностью коррелируется с studytime (studytime - предварительно убираем с выборки)\n",
    "- образование отца и матери коорелируется тоже, из этого можно сделать выход что семьи создаются в том числе и на основе \n",
    "уровня образованности родителей"
   ]
  },
  {
   "cell_type": "markdown",
   "metadata": {},
   "source": [
    "## 5. Анализ номинативных переменных и устранить те, которые не влияют на предсказываемую величину \n",
    "\n",
    "Так как числовые показатели по факту являются и номитативными переменными, только выраженными цифрами, они тоже  \n",
    "будут учавствовать в расчете"
   ]
  },
  {
   "cell_type": "code",
   "execution_count": null,
   "metadata": {
    "pycharm": {
     "is_executing": true
    }
   },
   "outputs": [],
   "source": [
    "def get_boxplot(date, column):\n",
    "    fig, ax = plt.subplots(figsize=(14, 4))\n",
    "    sns.boxplot(x=column, y='score',\n",
    "                data=date.loc[:],\n",
    "                ax=ax)\n",
    "    plt.xticks(rotation=45)\n",
    "    ax.set_title('Boxplot for ' + column)\n",
    "    plt.show()"
   ]
  },
  {
   "cell_type": "code",
   "execution_count": null,
   "metadata": {
    "pycharm": {
     "is_executing": true
    }
   },
   "outputs": [],
   "source": [
    "for col in ['Medu', 'Fedu', 'traveltime', 'studytime', 'failures', 'famrel', 'freetime', 'goout', 'health',\n",
    "            'sex', 'address', 'famsize', 'Pstatus', 'Mjob', 'Fjob', 'reason', 'guardian',\n",
    "            'schoolsup', 'famsup', 'paid', 'activities', 'nursery', 'higher', 'internet',\n",
    "            'romantic', 'absences']:\n",
    "    get_boxplot(student, col)"
   ]
  },
  {
   "cell_type": "markdown",
   "metadata": {},
   "source": [
    "### **Выводы:**\n",
    "Представленные выводы основы только на основе графиков, без анализа статистики.\n",
    "\n",
    "**Образование матери** -  высшее и отсуствие образования среднем дает более высокий баллы  \n",
    "**Образование отца** -  отсуствие образования дает наименьший баллы, все остальное одинаково  \n",
    "**Время в пути до школы**  - не влияет на баллы  \n",
    "**Время на учёбу помимо школы** - сказываетя на баллы только если тратить болье 5 - 10 часов  \n",
    "**Количество внеучебных неуда** - чем меньше неудач тем больше быллы  \n",
    "**Семейные отношения** - не влияют на баллы  \n",
    "**свободное время после школы**  - не влияют на баллы  \n",
    "**проведение времени с друзьями** -  чем меньше времени тем лучше баллы  \n",
    "**Текущее состояние здоровья** - среднее здоровье показывает наименьшие баллы  \n",
    "**Пол**  - у мужчин больше баллов  \n",
    "**Тип адреса ученика**  - городские показывают лучше баллы  \n",
    "**Размер семьи** - не влияет на баллы  \n",
    "**Статус совместного жилья родителей** - раздельное проживание показывает больше баллы, чем совместное  \n",
    "**Работа матери** - сфера здравоохранения показывает лучший результат, остальные примерно одинаковы  \n",
    "**Работа отца** - учитель показывает лучший результат, остальные примерно одинаковы  \n",
    "**Причина выбора школы** - не влияет на баллы   \n",
    "**Опекун**  -  не влияет на баллы  \n",
    "**Дополнительная образовательная поддержка** - при ее отсутствии баллы выше  \n",
    "**Семейная образовательная поддержка** -  не влияет на баллы    \n",
    "**Дополнительные платные занятия по математи** - при присутвии балыы немного выше   \n",
    "**Дополнительные внеучебные занятия**  - не влияет на баллы  \n",
    "**Посещение детского сада** - при ее присутвии баллы выше  \n",
    "**Хочет получить высшее образовани** - при ее присутвии баллы выше  \n",
    "**Наличие интернета дома** - не влияет на баллы  \n",
    "**В романтических отношениях**  - не влияет на баллы  \n",
    "**Количество пропущенных занятий** - мало данных для анализа  "
   ]
  },
  {
   "cell_type": "markdown",
   "metadata": {},
   "source": [
    "**Статистический анализ  равенства средних величин**\n",
    "\n",
    "Так как выборка для анализа маленькая, предлагается иссдедовать данные на два различных уровня критерия значимости 5% и 7.5%\n",
    "\n",
    "Как известно критерия значимости - это вероятность отвергнуть нулевую гипотезу при условии, что она верна. Так как выборка у нас небольшая можно пренебречь  уровнем  критерия значимости, с тем чтобы количество признаков увеличилось. \n",
    "\n",
    "***Для критерия значимости 5%***"
   ]
  },
  {
   "cell_type": "code",
   "execution_count": null,
   "metadata": {
    "pycharm": {
     "is_executing": true
    }
   },
   "outputs": [],
   "source": [
    "def get_stat_dif(date, column, level):\n",
    "    cols = date.loc[:, column].value_counts().index[:10]\n",
    "    combinations_all = list(combinations(cols, 2))\n",
    "    for comb in combinations_all:\n",
    "        if ttest_ind(date.loc[date.loc[:, column] == comb[0], 'score'],\n",
    "                     date.loc[date.loc[:, column] == comb[1], 'score']).pvalue \\\n",
    "                <= float(level) / len(combinations_all): \n",
    "            print('Найдены статистически значимые различия для колонки', column)\n",
    "            break"
   ]
  },
  {
   "cell_type": "code",
   "execution_count": null,
   "metadata": {
    "pycharm": {
     "is_executing": true
    }
   },
   "outputs": [],
   "source": [
    "for col in ['age', 'Medu', 'Fedu', 'traveltime', 'studytime', 'failures', 'famrel', 'freetime', 'goout', 'health',\n",
    "            'sex', 'address', 'famsize', 'Pstatus', 'Mjob', 'Fjob', 'reason', 'guardian',\n",
    "            'schoolsup', 'famsup', 'paid', 'activities', 'nursery', 'higher', 'internet',\n",
    "            'romantic', 'absences', 'granular']:\n",
    "    get_stat_dif(student, col, 0.05)"
   ]
  },
  {
   "cell_type": "markdown",
   "metadata": {},
   "source": [
    "***Для критерия значимости 7.5%***"
   ]
  },
  {
   "cell_type": "code",
   "execution_count": null,
   "metadata": {
    "pycharm": {
     "is_executing": true
    }
   },
   "outputs": [],
   "source": [
    "for col in ['age','Medu', 'Fedu', 'traveltime', 'studytime', 'failures', 'famrel', 'freetime', 'goout', 'health',\n",
    "            'sex', 'address', 'famsize', 'Pstatus', 'Mjob', 'Fjob', 'reason', 'guardian',\n",
    "            'schoolsup', 'famsup', 'paid', 'activities', 'nursery', 'higher', 'internet',\n",
    "            'romantic', 'absences', 'granular']:\n",
    "    get_stat_dif(student, col, 0.075)"
   ]
  },
  {
   "cell_type": "markdown",
   "metadata": {},
   "source": [
    "На основое анализа сравнения этих двух выборок на баллы по госэкзамену по математике влияют следующие признаки:\n",
    "- age (возраст ученика)\n",
    "- Medu (образование матери)\n",
    "- Fedu (образование отца)\n",
    "- studytime (время на учёбу помимо школы в неделю)\n",
    "- failures (количество внеучебных неудач)\n",
    "- health (текущее состояние здоровья)\n",
    "- sex (пол)\n",
    "- address (тип адреса ученика)\n",
    "- Fjob (работа отца)\n",
    "- absences (количество пропусков)\n",
    "\n",
    "На остнове корреляционного анализа выяснили, что параметр studytime обратно пропорционален granular В результирующей выборке оставим параметр только granular и удалим studytime\n"
   ]
  },
  {
   "cell_type": "markdown",
   "metadata": {},
   "source": [
    "### 6. Выводы\n",
    "\n",
    "На основе анализа выделим те параметры , которые оказывают влиние на баллы по госэкзамену по математике (score)\n",
    "\n",
    "age  -  возраст ученика\n",
    "Medu - образование матери\n",
    "Fedu  - образование отца\n",
    "failures - количество внеучебных неудач\n",
    "health - текущее состояние здоровья\n",
    "sex - пол\n",
    "address  - тип адреса ученика\n",
    "Fjob  - работа отца\n",
    "absences  - количество пропусков\n",
    "granular - неизвестный параметр\n",
    "\n",
    "Таким образом, из 28 признаков осталось 10 признаков которые как было показано статистически влияют на итоговую оценку по математике.\n"
   ]
  },
  {
   "cell_type": "code",
   "execution_count": null,
   "metadata": {
    "pycharm": {
     "is_executing": true
    }
   },
   "outputs": [],
   "source": []
  }
 ],
 "metadata": {
  "kernelspec": {
   "display_name": "Python 3",
   "language": "python",
   "name": "python3"
  },
  "language_info": {
   "codemirror_mode": {
    "name": "ipython",
    "version": 3
   },
   "file_extension": ".py",
   "mimetype": "text/x-python",
   "name": "python",
   "nbconvert_exporter": "python",
   "pygments_lexer": "ipython3",
   "version": "3.8.8"
  }
 },
 "nbformat": 4,
 "nbformat_minor": 1
}
